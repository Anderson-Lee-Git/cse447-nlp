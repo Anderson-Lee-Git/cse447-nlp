{
 "cells": [
  {
   "cell_type": "code",
   "execution_count": 2,
   "metadata": {},
   "outputs": [
    {
     "name": "stdout",
     "output_type": "stream",
     "text": [
      "Requirement already satisfied: torch in /Users/anderson/Documents/CSE/cse447-nlp/.conda/lib/python3.10/site-packages (2.2.0)\n",
      "Requirement already satisfied: transformers in /Users/anderson/Documents/CSE/cse447-nlp/.conda/lib/python3.10/site-packages (4.37.2)\n",
      "Requirement already satisfied: datasets in /Users/anderson/Documents/CSE/cse447-nlp/.conda/lib/python3.10/site-packages (2.17.0)\n",
      "Requirement already satisfied: tqdm in /Users/anderson/Documents/CSE/cse447-nlp/.conda/lib/python3.10/site-packages (4.66.1)\n",
      "Requirement already satisfied: gdown==v4.6.3 in /Users/anderson/Documents/CSE/cse447-nlp/.conda/lib/python3.10/site-packages (4.6.3)\n",
      "Requirement already satisfied: filelock in /Users/anderson/Documents/CSE/cse447-nlp/.conda/lib/python3.10/site-packages (from gdown==v4.6.3) (3.13.1)\n",
      "Requirement already satisfied: requests[socks] in /Users/anderson/Documents/CSE/cse447-nlp/.conda/lib/python3.10/site-packages (from gdown==v4.6.3) (2.31.0)\n",
      "Requirement already satisfied: six in /Users/anderson/Documents/CSE/cse447-nlp/.conda/lib/python3.10/site-packages (from gdown==v4.6.3) (1.16.0)\n",
      "Requirement already satisfied: beautifulsoup4 in /Users/anderson/Documents/CSE/cse447-nlp/.conda/lib/python3.10/site-packages (from gdown==v4.6.3) (4.12.3)\n",
      "Requirement already satisfied: typing-extensions>=4.8.0 in /Users/anderson/Documents/CSE/cse447-nlp/.conda/lib/python3.10/site-packages (from torch) (4.9.0)\n",
      "Requirement already satisfied: sympy in /Users/anderson/Documents/CSE/cse447-nlp/.conda/lib/python3.10/site-packages (from torch) (1.12)\n",
      "Requirement already satisfied: networkx in /Users/anderson/Documents/CSE/cse447-nlp/.conda/lib/python3.10/site-packages (from torch) (3.2.1)\n",
      "Requirement already satisfied: jinja2 in /Users/anderson/Documents/CSE/cse447-nlp/.conda/lib/python3.10/site-packages (from torch) (3.1.3)\n",
      "Requirement already satisfied: fsspec in /Users/anderson/Documents/CSE/cse447-nlp/.conda/lib/python3.10/site-packages (from torch) (2023.10.0)\n",
      "Requirement already satisfied: huggingface-hub<1.0,>=0.19.3 in /Users/anderson/Documents/CSE/cse447-nlp/.conda/lib/python3.10/site-packages (from transformers) (0.20.3)\n",
      "Requirement already satisfied: numpy>=1.17 in /Users/anderson/Documents/CSE/cse447-nlp/.conda/lib/python3.10/site-packages (from transformers) (1.26.3)\n",
      "Requirement already satisfied: packaging>=20.0 in /Users/anderson/Documents/CSE/cse447-nlp/.conda/lib/python3.10/site-packages (from transformers) (23.2)\n",
      "Requirement already satisfied: pyyaml>=5.1 in /Users/anderson/Documents/CSE/cse447-nlp/.conda/lib/python3.10/site-packages (from transformers) (6.0.1)\n",
      "Requirement already satisfied: regex!=2019.12.17 in /Users/anderson/Documents/CSE/cse447-nlp/.conda/lib/python3.10/site-packages (from transformers) (2023.12.25)\n",
      "Requirement already satisfied: tokenizers<0.19,>=0.14 in /Users/anderson/Documents/CSE/cse447-nlp/.conda/lib/python3.10/site-packages (from transformers) (0.15.1)\n",
      "Requirement already satisfied: safetensors>=0.4.1 in /Users/anderson/Documents/CSE/cse447-nlp/.conda/lib/python3.10/site-packages (from transformers) (0.4.2)\n",
      "Requirement already satisfied: pyarrow>=12.0.0 in /Users/anderson/Documents/CSE/cse447-nlp/.conda/lib/python3.10/site-packages (from datasets) (15.0.0)\n",
      "Requirement already satisfied: pyarrow-hotfix in /Users/anderson/Documents/CSE/cse447-nlp/.conda/lib/python3.10/site-packages (from datasets) (0.6)\n",
      "Requirement already satisfied: dill<0.3.9,>=0.3.0 in /Users/anderson/Documents/CSE/cse447-nlp/.conda/lib/python3.10/site-packages (from datasets) (0.3.8)\n",
      "Requirement already satisfied: pandas in /Users/anderson/Documents/CSE/cse447-nlp/.conda/lib/python3.10/site-packages (from datasets) (2.2.0)\n",
      "Requirement already satisfied: xxhash in /Users/anderson/Documents/CSE/cse447-nlp/.conda/lib/python3.10/site-packages (from datasets) (3.4.1)\n",
      "Requirement already satisfied: multiprocess in /Users/anderson/Documents/CSE/cse447-nlp/.conda/lib/python3.10/site-packages (from datasets) (0.70.16)\n",
      "Requirement already satisfied: aiohttp in /Users/anderson/Documents/CSE/cse447-nlp/.conda/lib/python3.10/site-packages (from datasets) (3.9.3)\n",
      "Requirement already satisfied: aiosignal>=1.1.2 in /Users/anderson/Documents/CSE/cse447-nlp/.conda/lib/python3.10/site-packages (from aiohttp->datasets) (1.3.1)\n",
      "Requirement already satisfied: attrs>=17.3.0 in /Users/anderson/Documents/CSE/cse447-nlp/.conda/lib/python3.10/site-packages (from aiohttp->datasets) (23.2.0)\n",
      "Requirement already satisfied: frozenlist>=1.1.1 in /Users/anderson/Documents/CSE/cse447-nlp/.conda/lib/python3.10/site-packages (from aiohttp->datasets) (1.4.1)\n",
      "Requirement already satisfied: multidict<7.0,>=4.5 in /Users/anderson/Documents/CSE/cse447-nlp/.conda/lib/python3.10/site-packages (from aiohttp->datasets) (6.0.5)\n",
      "Requirement already satisfied: yarl<2.0,>=1.0 in /Users/anderson/Documents/CSE/cse447-nlp/.conda/lib/python3.10/site-packages (from aiohttp->datasets) (1.9.4)\n",
      "Requirement already satisfied: async-timeout<5.0,>=4.0 in /Users/anderson/Documents/CSE/cse447-nlp/.conda/lib/python3.10/site-packages (from aiohttp->datasets) (4.0.3)\n",
      "Requirement already satisfied: charset-normalizer<4,>=2 in /Users/anderson/Documents/CSE/cse447-nlp/.conda/lib/python3.10/site-packages (from requests[socks]->gdown==v4.6.3) (3.3.2)\n",
      "Requirement already satisfied: idna<4,>=2.5 in /Users/anderson/Documents/CSE/cse447-nlp/.conda/lib/python3.10/site-packages (from requests[socks]->gdown==v4.6.3) (3.6)\n",
      "Requirement already satisfied: urllib3<3,>=1.21.1 in /Users/anderson/Documents/CSE/cse447-nlp/.conda/lib/python3.10/site-packages (from requests[socks]->gdown==v4.6.3) (2.2.0)\n",
      "Requirement already satisfied: certifi>=2017.4.17 in /Users/anderson/Documents/CSE/cse447-nlp/.conda/lib/python3.10/site-packages (from requests[socks]->gdown==v4.6.3) (2024.2.2)\n",
      "Requirement already satisfied: soupsieve>1.2 in /Users/anderson/Documents/CSE/cse447-nlp/.conda/lib/python3.10/site-packages (from beautifulsoup4->gdown==v4.6.3) (2.5)\n",
      "Requirement already satisfied: MarkupSafe>=2.0 in /Users/anderson/Documents/CSE/cse447-nlp/.conda/lib/python3.10/site-packages (from jinja2->torch) (2.1.5)\n",
      "Requirement already satisfied: python-dateutil>=2.8.2 in /Users/anderson/Documents/CSE/cse447-nlp/.conda/lib/python3.10/site-packages (from pandas->datasets) (2.8.2)\n",
      "Requirement already satisfied: pytz>=2020.1 in /Users/anderson/Documents/CSE/cse447-nlp/.conda/lib/python3.10/site-packages (from pandas->datasets) (2024.1)\n",
      "Requirement already satisfied: tzdata>=2022.7 in /Users/anderson/Documents/CSE/cse447-nlp/.conda/lib/python3.10/site-packages (from pandas->datasets) (2023.4)\n",
      "Requirement already satisfied: PySocks!=1.5.7,>=1.5.6 in /Users/anderson/Documents/CSE/cse447-nlp/.conda/lib/python3.10/site-packages (from requests[socks]->gdown==v4.6.3) (1.7.1)\n",
      "Requirement already satisfied: mpmath>=0.19 in /Users/anderson/Documents/CSE/cse447-nlp/.conda/lib/python3.10/site-packages (from sympy->torch) (1.3.0)\n"
     ]
    }
   ],
   "source": [
    "!pip install torch transformers datasets tqdm gdown==v4.6.3"
   ]
  }
 ],
 "metadata": {
  "kernelspec": {
   "display_name": "Python 3",
   "language": "python",
   "name": "python3"
  },
  "language_info": {
   "codemirror_mode": {
    "name": "ipython",
    "version": 3
   },
   "file_extension": ".py",
   "mimetype": "text/x-python",
   "name": "python",
   "nbconvert_exporter": "python",
   "pygments_lexer": "ipython3",
   "version": "3.10.13"
  }
 },
 "nbformat": 4,
 "nbformat_minor": 2
}
