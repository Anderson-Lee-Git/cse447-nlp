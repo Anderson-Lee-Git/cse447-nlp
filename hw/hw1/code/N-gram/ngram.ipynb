{
 "cells": [
  {
   "cell_type": "code",
   "execution_count": 3,
   "metadata": {},
   "outputs": [
    {
     "name": "stdout",
     "output_type": "stream",
     "text": [
      "hello5\n"
     ]
    }
   ],
   "source": [
    "THRESHOLD = 3\n",
    "\n",
    "def hello():\n",
    "    print(\"hello\" + str(THRESHOLD))\n",
    "\n",
    "def outside_function():\n",
    "    hello()\n",
    "\n",
    "def playground():\n",
    "    global THRESHOLD\n",
    "    THRESHOLD = 5\n",
    "    outside_function()\n",
    "\n",
    "playground()"
   ]
  }
 ],
 "metadata": {
  "kernelspec": {
   "display_name": "Python 3",
   "language": "python",
   "name": "python3"
  },
  "language_info": {
   "codemirror_mode": {
    "name": "ipython",
    "version": 3
   },
   "file_extension": ".py",
   "mimetype": "text/x-python",
   "name": "python",
   "nbconvert_exporter": "python",
   "pygments_lexer": "ipython3",
   "version": "3.10.13"
  }
 },
 "nbformat": 4,
 "nbformat_minor": 2
}
