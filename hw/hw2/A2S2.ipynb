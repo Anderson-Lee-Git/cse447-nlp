{
  "cells": [
    {
      "cell_type": "markdown",
      "metadata": {
        "id": "_KhS5_d0sXII"
      },
      "source": [
        "# Instructions\n",
        "- Before running the jupyter notebook, don't forget to copy it into your drive **(`File` => `Save a copy in Drive`)**. *Failing to do this step may result in losing the progress of your code.*\n",
        "- Change your resource type to GPU before progressing **(`Runtime` => `Change runtime time` => `T4 GPU`).**\n",
        "- For the submission of the assignment, please download this notebook as a **Python file**, named `A2S2.py`."
      ]
    },
    {
      "cell_type": "code",
      "execution_count": 63,
      "metadata": {
        "id": "wZLeGIesOWnF"
      },
      "outputs": [],
      "source": [
        "import torch\n",
        "import torch.nn as nn\n",
        "import torch.nn.functional as F\n",
        "\n",
        "import math"
      ]
    },
    {
      "cell_type": "markdown",
      "metadata": {
        "id": "IP7gfESDOUoe"
      },
      "source": [
        "# 2.1 Implementing Attention from Scratch\n",
        "\n",
        "**NOTE: We'll grade this part of the code!**"
      ]
    },
    {
      "cell_type": "markdown",
      "metadata": {
        "id": "-tzTzNmBOi3x"
      },
      "source": [
        "## Preparation"
      ]
    },
    {
      "cell_type": "code",
      "execution_count": 64,
      "metadata": {
        "id": "Nt_blnhYOT-_"
      },
      "outputs": [],
      "source": [
        "######################################################\n",
        "#  The following code is given to you.\n",
        "######################################################\n",
        "\n",
        "def MHA_wrapper(query, key, value, n_heads=1, causal=False):\n",
        "    \"\"\"\n",
        "    This is a wrapper around the PyTorch implementation of multi-head attention.\n",
        "    You will use this implementation to compare to your implementation for code testing.\n",
        "    \"\"\"\n",
        "    assert query.shape == key.shape == value.shape\n",
        "    _, n_tok, n_embd = query.shape\n",
        "\n",
        "    query = query.transpose(0,1)\n",
        "    key = key.transpose(0,1)\n",
        "    value = value.transpose(0,1)\n",
        "\n",
        "    in_proj_weight = torch.eye(n_embd, dtype=key.dtype, device=key.device).repeat((3, 1))\n",
        "    out_proj_weight = torch.eye(n_embd, dtype=key.dtype, device=key.device)\n",
        "\n",
        "    attn_mask = None\n",
        "    if causal:\n",
        "        attn_mask = torch.tril(torch.ones(n_tok, n_tok, dtype=bool, device=key.device)).logical_not()\n",
        "\n",
        "    out, _ = F.multi_head_attention_forward(\n",
        "        query, key, value, n_embd, n_heads,\n",
        "        in_proj_weight=in_proj_weight, in_proj_bias=None,\n",
        "        bias_k=None, bias_v=None, add_zero_attn=False, dropout_p=0,\n",
        "        out_proj_weight=out_proj_weight, out_proj_bias=None,\n",
        "        attn_mask=attn_mask, need_weights=False,)\n",
        "\n",
        "    return out.transpose(0,1)"
      ]
    },
    {
      "cell_type": "code",
      "execution_count": 65,
      "metadata": {
        "id": "Htv3K7zWOT8I"
      },
      "outputs": [],
      "source": [
        "######################################################\n",
        "#  The following code is given to you.\n",
        "######################################################\n",
        "\n",
        "# use cpu for now\n",
        "DEVICE = 'cpu'\n",
        "\n",
        "# make these bigger if you want a stricter test of your code\n",
        "part1_n_tok = 10\n",
        "part1_n_emb = 6\n",
        "\n",
        "# generate fixed pseudo-random Q,K,V for testing attn function\n",
        "torch.manual_seed(447)\n",
        "\n",
        "# Initialize random testing Q,K,V\n",
        "part1_key = torch.randn(1, part1_n_tok, part1_n_emb)\n",
        "part1_value = torch.randn(1, part1_n_tok, part1_n_emb)\n",
        "part1_query = torch.randn(1, part1_n_tok, part1_n_emb)"
      ]
    },
    {
      "cell_type": "markdown",
      "metadata": {
        "id": "AfnPs2SYOoQX"
      },
      "source": [
        "## Step 0: Set up the projections for attention.\n",
        "**You will complete the following code blocks denoted by `TODO:`.**"
      ]
    },
    {
      "cell_type": "code",
      "execution_count": 66,
      "metadata": {
        "id": "1-MYswdfOT5j"
      },
      "outputs": [],
      "source": [
        "def init_qkv_proj(n_embd:int):\n",
        "    \"\"\"\n",
        "    This function is given to you.\n",
        "    :return: A tuple of length 3 containing the projections for Q, K, V.\n",
        "    \"\"\"\n",
        "    return (nn.Linear(n_embd, n_embd), nn.Linear(n_embd, n_embd), nn.Linear(n_embd, n_embd))\n",
        "\n",
        "\n",
        "def self_attention(Q, K, V, n_heads=1, causal=True):\n",
        "    \"\"\"\n",
        "    Self-attention block.\n",
        "\n",
        "    Note: You will keep coming back to this cell and fill in more of this function\n",
        "    after completing each of the following steps! Don't forget to re-run this\n",
        "    cell each time you change it. Make sure that once you're done, all the testing\n",
        "    cells should work.\n",
        "\n",
        "    :return: A tensor containing the result of the self-attention operation.\n",
        "    \"\"\"\n",
        "    assert Q.shape == K.shape == V.shape\n",
        "    B, n_tok, n_embd = Q.size()\n",
        "    # TODO: Step 3 -- split heads.\n",
        "    if n_heads > 1:\n",
        "        Q, K, V = split_heads_qkv(Q, K, V, n_heads)\n",
        "\n",
        "    # TODO: Step 1 -- calculate raw attetion.\n",
        "    # Hint: you need two lines here.\n",
        "    A = pairwise_similarities(Q, K)\n",
        "    A = attn_scaled(A, n_embd, n_heads)\n",
        "\n",
        "    # TODO: Step 2 -- create and apply the causal mask to attention.\n",
        "    if causal:\n",
        "        mask = make_causal_mask(n_tok)\n",
        "        A = apply_causal_mask(mask, A)\n",
        "\n",
        "    # TODO: Step 1 -- softmax the raw attention and use it to get outputs.\n",
        "    # Hint: you need two lines here.\n",
        "    A = attn_softmax(A)\n",
        "    y = compute_outputs(A, V)\n",
        "\n",
        "    print(y.shape)\n",
        "\n",
        "    # TODO: Step 3 -- merge heads.\n",
        "    if n_heads > 1:\n",
        "        y = merge_heads(y)\n",
        "\n",
        "    print(y.shape)\n",
        "\n",
        "    # output should have the same shape as input\n",
        "    assert y.shape == (B, n_tok, n_embd)\n",
        "    return y\n"
      ]
    },
    {
      "cell_type": "markdown",
      "metadata": {
        "id": "LjzhA74yOwQ3"
      },
      "source": [
        "## Step 1: Implement the core components of attention.\n",
        "**You will complete the following code blocks denoted by `TODO:`.**"
      ]
    },
    {
      "cell_type": "code",
      "execution_count": 67,
      "metadata": {
        "id": "mBCxBQRPOT3F"
      },
      "outputs": [],
      "source": [
        "def pairwise_similarities(Q, K):\n",
        "    \"\"\"\n",
        "    Dot product attention is computed via the dot product between each query and each key.\n",
        "    :return: The raw attention scores, A = QK^T.\n",
        "    \"\"\"\n",
        "    return Q @ K.transpose(-2, -1)\n",
        "\n",
        "def attn_scaled(A, n_embd:float, n_heads:float):\n",
        "    \"\"\"\n",
        "    Scale the raw attention scores.\n",
        "    :return: Scaled raw attention scores.\n",
        "    \"\"\"\n",
        "    assert n_embd % n_heads == 0, \"d must be divisible by number of heads\"\n",
        "    return A / math.sqrt(n_embd / n_heads)\n",
        "\n",
        "def attn_softmax(A):\n",
        "    \"\"\"\n",
        "    Normalize the scaled raw attention scores with softmax.\n",
        "    :return: Normalized attention scores, A' = softmax(A).\n",
        "    \"\"\"\n",
        "    # Hint: the softmax function should be applied to dim=-1.\n",
        "    return torch.softmax(A, dim=-1)\n",
        "\n",
        "def compute_outputs(A, V):\n",
        "    \"\"\"\n",
        "    Get outputs as a weighted sum of values by attention scores, using matrices.\n",
        "    :return: Output, O = AV.\n",
        "    \"\"\"\n",
        "    return A @ V"
      ]
    },
    {
      "cell_type": "markdown",
      "metadata": {
        "id": "oN7tqdYWOyhs"
      },
      "source": [
        "## Test 1: Building Single-headed Self-attention without Masking\n",
        "\n",
        "Implement lines denoted by `Step 1` in `self-attention()`, and run the following test code to verify your implementation produces close enough results to the PyTorch implementation."
      ]
    },
    {
      "cell_type": "code",
      "execution_count": 68,
      "metadata": {
        "id": "yo-oEUK_OT0Q"
      },
      "outputs": [
        {
          "name": "stdout",
          "output_type": "stream",
          "text": [
            "torch.Size([1, 10, 6])\n",
            "torch.Size([1, 10, 6])\n",
            "max diff: 8.195638656616211e-08\n"
          ]
        }
      ],
      "source": [
        "######################################################\n",
        "#  The following code is given to you. DO NOT MODIFY.\n",
        "######################################################\n",
        "\n",
        "out_A = self_attention(part1_query, part1_key, part1_value, n_heads=1, causal=False)\n",
        "out_B = MHA_wrapper(part1_query, part1_key, part1_value, n_heads=1, causal=False)\n",
        "assert out_A.shape == out_B.shape == part1_query.shape\n",
        "\n",
        "print('max diff:', (out_A - out_B).abs().max().item())"
      ]
    },
    {
      "cell_type": "markdown",
      "metadata": {
        "id": "kkef4M_RO4OR"
      },
      "source": [
        "## Step 2: Implement causal masking for language modeling.\n",
        "\n",
        "**You will complete the following code blocks denoted by `TODO:`.**"
      ]
    },
    {
      "cell_type": "code",
      "execution_count": 69,
      "metadata": {
        "id": "ue9jRKAvO3ow"
      },
      "outputs": [],
      "source": [
        "def make_causal_mask(n_tok:int):\n",
        "    \"\"\"\n",
        "    Create a mask matrix that masks future context for the attention.\n",
        "    :return: A mask matrix which is a tensor of shape (n_tok, n_tok)\n",
        "    \"\"\"\n",
        "    # Hint: In order for it to run properly later, you'll need to put `.to(DEVICE)` at\n",
        "    # the end of your expression for this. This will not be relevant until section 2.2.\n",
        "    mask = torch.zeros(size=(n_tok, n_tok))\n",
        "    for i in range(n_tok):\n",
        "        mask[i, i+1:] = float(\"-inf\")\n",
        "    return mask.to(DEVICE)\n",
        "\n",
        "def apply_causal_mask(mask, A):\n",
        "    \"\"\"\n",
        "    Apply mask to attention.\n",
        "    :return: A masked attention matrix.\n",
        "    \"\"\"\n",
        "    return A + mask"
      ]
    },
    {
      "cell_type": "markdown",
      "metadata": {
        "id": "LIajZL77O-WP"
      },
      "source": [
        "## Test 2: Adding Causal Masks\n",
        "\n",
        "Implement lines denoted by `Step 2` in `self-attention()`, and run the following test code to verify your implementation produces close enough results to the PyTorch implementation."
      ]
    },
    {
      "cell_type": "code",
      "execution_count": 70,
      "metadata": {
        "id": "CO_Yr0xwOTxD"
      },
      "outputs": [
        {
          "name": "stdout",
          "output_type": "stream",
          "text": [
            "torch.Size([1, 10, 6])\n",
            "torch.Size([1, 10, 6])\n",
            "max diff: 1.1920928955078125e-07\n"
          ]
        }
      ],
      "source": [
        "######################################################\n",
        "#  The following code is given to you. DO NOT MODIFY.\n",
        "######################################################\n",
        "\n",
        "out_A = self_attention(part1_query, part1_key, part1_value, n_heads=1, causal=True)\n",
        "out_B = MHA_wrapper(part1_query, part1_key, part1_value, n_heads=1, causal=True)\n",
        "assert out_A.shape == out_B.shape == part1_query.shape\n",
        "\n",
        "print('max diff:', (out_A - out_B).abs().max().item())"
      ]
    },
    {
      "cell_type": "markdown",
      "metadata": {
        "id": "stxjR8vwPBR7"
      },
      "source": [
        "## Step 3: Implement multi-head attention.\n",
        "\n",
        "**You will complete the following code blocks denoted by `TODO:`.**"
      ]
    },
    {
      "cell_type": "code",
      "execution_count": 71,
      "metadata": {
        "id": "TpkY9QJnOTuR"
      },
      "outputs": [],
      "source": [
        "def split_heads_qkv(Q, K, V, n_heads:int):\n",
        "    \"\"\"\n",
        "    Provided as a utility -- you can choose to not use it if you'd like.\n",
        "    \"\"\"\n",
        "    return (split_heads(Q, n_heads), split_heads(K, n_heads), split_heads(V, n_heads))\n",
        "\n",
        "def split_heads(x, n_heads:int):\n",
        "    \"\"\"\n",
        "    Splitting x across multiple heads.\n",
        "    :return: A splitted x.\n",
        "    \"\"\"\n",
        "    B, n_tok, n_embd = x.size()\n",
        "    assert n_embd % n_heads == 0, \"d must be divisible by number of heads\"\n",
        "    mh = torch.split(x, split_size_or_sections=n_embd // n_heads, dim=-1)\n",
        "    mh = torch.stack(mh, dim=1)\n",
        "    return mh\n",
        "\n",
        "def merge_heads(y):\n",
        "    \"\"\"\n",
        "    Reversing splitting action of y.\n",
        "    :return: A merged y.\n",
        "    \"\"\"\n",
        "    B, nh, n_tok, nc = y.size()\n",
        "    return torch.cat([y[:, i, :, :] for i in range(nh)], dim=-1)"
      ]
    },
    {
      "cell_type": "markdown",
      "metadata": {
        "id": "Qqncnx2gPJHA"
      },
      "source": [
        "## Test 3: Adding Multi-Head Attention\n",
        "\n",
        "Implement lines denoted by `Step 3` in `self-attention()`, and run the following test code to verify your implementation produces close enough results to the PyTorch implementation."
      ]
    },
    {
      "cell_type": "code",
      "execution_count": 72,
      "metadata": {
        "id": "apRpHAyrOTVQ"
      },
      "outputs": [
        {
          "name": "stdout",
          "output_type": "stream",
          "text": [
            "torch.Size([1, 3, 10, 2])\n",
            "torch.Size([1, 10, 6])\n",
            "max diff: 6.100162863731384e-08\n"
          ]
        }
      ],
      "source": [
        "######################################################\n",
        "#  The following code is given to you. DO NOT MODIFY.\n",
        "######################################################\n",
        "\n",
        "out_A = self_attention(part1_query, part1_key, part1_value, n_heads=3, causal=True)\n",
        "out_B = MHA_wrapper(part1_query, part1_key, part1_value, n_heads=3, causal=True)\n",
        "assert out_A.shape == out_B.shape == part1_query.shape\n",
        "\n",
        "print('max diff:', (out_A - out_B).abs().max().item())"
      ]
    },
    {
      "cell_type": "markdown",
      "metadata": {
        "id": "wr-X_1BlQliX"
      },
      "source": [
        "# 2.2 Experiment with Your Transformer\n",
        "\n",
        "**NOTE: We'll NOT grade this part of the code!** The following codes provide you with a basis to experiment with some perspectives of your attention block, and you will summarize your explorations in the write-up. We will only grade the write-up for part 2.2."
      ]
    },
    {
      "cell_type": "markdown",
      "metadata": {
        "id": "jFg2QBmv1Mhn"
      },
      "source": [
        "## Preparation: Modifications to Your Attention Implementation for section 2.2\n",
        "\n",
        "Below is space for you to work on a *modified* version of your attention implementation above for your experimentation in section 2.2. **Ensure your submitted code does not break the tests in section 2.1**; the easiest way to do this is to *copy* your implementation above (and probably condense it) and modify it below.\n",
        "\n",
        "You can also put any code anywhere in section 2.2; putting that code here is just a suggestion."
      ]
    },
    {
      "cell_type": "code",
      "execution_count": 73,
      "metadata": {
        "id": "ZjgtXtLK1NFv"
      },
      "outputs": [],
      "source": [
        "def shuffle_merge_heads(y):\n",
        "    \"\"\"\n",
        "    Shuffle merge heads\n",
        "    Reversing splitting action of y.\n",
        "    :return: A merged y.\n",
        "    \"\"\"\n",
        "    B, nh, n_tok, nc = y.size()\n",
        "    return torch.cat([y[:, i, :, :] for i in torch.randperm(nh)], dim=-1)\n",
        "\n",
        "def shift_merge_heads(y):\n",
        "    \"\"\"\n",
        "    Shift merge heads\n",
        "    \"\"\"\n",
        "    B, nh, n_tok, nc = y.size()\n",
        "    return torch.cat([y[:, (i+1) % nh, :, :] for i in range(nh)], dim=-1)\n",
        "\n",
        "def reweight_merge_heads(y):\n",
        "    B, nh, n_tok, nc = y.size()\n",
        "    head_norm_weight = torch.stack([torch.linalg.matrix_norm(y[:, i, :, :])  for i in range(nh)], dim=-1)\n",
        "    head_norm_weight = head_norm_weight / torch.sum(head_norm_weight, dim=0)\n",
        "    y = torch.cat([y[:, i, :, :].squeeze() * head_norm_weight[:, i].view(B, 1, 1) for i in range(nh)], dim=-1)\n",
        "    return y\n",
        "\n",
        "def self_attention(Q, K, V, n_heads=1, causal=True):\n",
        "    \"\"\"\n",
        "    Self-attention block.\n",
        "\n",
        "    Note: You will keep coming back to this cell and fill in more of this function\n",
        "    after completing each of the following steps! Don't forget to re-run this\n",
        "    cell each time you change it. Make sure that once you're done, all the testing\n",
        "    cells should work.\n",
        "\n",
        "    :return: A tensor containing the result of the self-attention operation.\n",
        "    \"\"\"\n",
        "    assert Q.shape == K.shape == V.shape\n",
        "    B, n_tok, n_embd = Q.size()\n",
        "\n",
        "    if n_heads > 1:\n",
        "        Q, K, V = split_heads_qkv(Q, K, V, n_heads)\n",
        "\n",
        "    A = pairwise_similarities(Q, K)\n",
        "    A = attn_scaled(A, n_embd, n_heads)\n",
        "\n",
        "    if causal:\n",
        "        mask = make_causal_mask(n_tok)\n",
        "        A = apply_causal_mask(mask, A)\n",
        "\n",
        "    A = attn_softmax(A)\n",
        "    y = compute_outputs(A, V)\n",
        "\n",
        "    if n_heads > 1:\n",
        "        y = reweight_merge_heads(y)\n",
        "\n",
        "    # output should have the same shape as input\n",
        "    assert y.shape == (B, n_tok, n_embd)\n",
        "    return y"
      ]
    },
    {
      "cell_type": "markdown",
      "metadata": {
        "id": "UKZJRCqnSMhK"
      },
      "source": [
        "## Guideline for Section 2.2"
      ]
    },
    {
      "cell_type": "markdown",
      "metadata": {
        "id": "4EVfTKfDgZgm"
      },
      "source": [
        "What follows is the **starter code** for section 2.2. It includes the following:\n",
        "- Download the ngram data from A1\n",
        "- Download our fork of minGPT, modified to receive an implementation of attention from an external source (i.e. this notebook)\n",
        "- Simple implementation of tokenization which is very similar to what you did for A1. Differences from A1:\n",
        "    - include `<START>` in the vocab\n",
        "    - truncate to a fixed maximum sequence length of 100 tokens\n",
        "    - pad with `<PAD>` to the max length\n",
        "- `<PAD>` is new -- the loss is set to ignore anything with this token, such that the model doesn't get optimized for learning how to pad, and instead gets trained for the actual text.\n",
        "- Model initialization is set up, but has not been tuned. Feel free to modify anything about it.\n",
        "- Simple trainer code to loop over the data and optimize on the model. We included a nice progress bar for you to watch while waiting.\n",
        "    - On the free-tier GPU in Colab, our provided starter code trains for an epoch (less than 2000 steps) within a few minutes. On CPU, it takes over an hour for even the smallest configuration.\n",
        "- Demonstration/explanation of loss calculation.\n",
        "- Per-document perplexity calculation like in A1, though it's a bit different:\n",
        "    - Due to the max training length, the learned positional embeddings won't extrapolate past 100 tokens. So, we actually only test on a *truncated* version of the data\n",
        "    - Most documents are less than 100 tokens and end up with a long chain of `<PAD>`s at the end. We don't want to include that in our loss/perplexity, so we show how to omit it from the calculation.\n",
        "- minGPT defines a very convenient `generate` function. We have a few example prompts you can try with it -- take a look at the kind of text your trained model generates.\n",
        "\n",
        "----\n",
        "\n",
        "**Feel free to modify the starter code as much as you want to!** We will focus on your report and not your code for section 2.2, so change anything. In particular, you will want to add more analysis/logging/comparisons for anything that's relevant to your experiment. Of course, that is in addition to the changes on top of part 2.1, as needed."
      ]
    },
    {
      "cell_type": "markdown",
      "metadata": {
        "id": "nfdFyjhJFcDw"
      },
      "source": [
        "### Utilities, data, and imports"
      ]
    },
    {
      "cell_type": "code",
      "execution_count": 74,
      "metadata": {
        "colab": {
          "base_uri": "https://localhost:8080/"
        },
        "id": "C6oUhgdmuZBB",
        "outputId": "fbb5d9cd-6ef5-4d01-9828-c225ee9d62d6"
      },
      "outputs": [
        {
          "name": "stdout",
          "output_type": "stream",
          "text": [
            "Archive:  N-gram.zip\n",
            "  inflating: 1b_benchmark.dev.tokens  \n",
            "  inflating: 1b_benchmark.test.tokens  \n",
            "  inflating: 1b_benchmark.train.tokens  \n"
          ]
        }
      ],
      "source": [
        "# download and unzip same data as in A1\n",
        "![ -e \"N-gram.zip\" ] || gdown 1MtgMIE1ghyw4pShjSLIb0b2xKkzi7nsk\n",
        "!unzip -o N-gram.zip\n",
        "\n",
        "# clone our fork of minGPT and link to the code\n",
        "![ -d \"mingpt-cse447\" ] || git clone https://gitlab.cs.washington.edu/yegork/mingpt-cse447.git\n",
        "![ -e \"mingpt\" ] || ln -s mingpt-cse447/mingpt mingpt"
      ]
    },
    {
      "cell_type": "code",
      "execution_count": 75,
      "metadata": {
        "id": "vAxYu_8zAEgN"
      },
      "outputs": [],
      "source": [
        "from mingpt.model import GPT\n",
        "from mingpt.trainer import Trainer\n",
        "\n",
        "import matplotlib.pyplot as plt\n",
        "from tqdm.auto import tqdm\n",
        "from collections import Counter\n",
        "import numpy as np"
      ]
    },
    {
      "cell_type": "markdown",
      "metadata": {
        "id": "xNNpLULBFnyq"
      },
      "source": [
        "### Dataset processing"
      ]
    },
    {
      "cell_type": "code",
      "execution_count": 76,
      "metadata": {
        "colab": {
          "base_uri": "https://localhost:8080/"
        },
        "id": "0c1dwn-gFE_c",
        "outputId": "34054f58-0259-4ba5-dc0c-119d1b7254b6"
      },
      "outputs": [
        {
          "name": "stdout",
          "output_type": "stream",
          "text": [
            "Having a little flexibility on that issue would go a long way to putting together a final package .\n",
            "Long before the advent of e-commerce , Wal-Mart 's founder Sam Walton set out his vision for a successful retail operation : \" We let folks know we 're interested in them and that they 're vital to us-- ' cause they are , \" he said .\n",
            "A spokesman said the company has been affected by the credit crunch in the United States .\n",
            "Abu Dhabi is going ahead to build solar city and no pollution city .\n",
            "Her back was torn open , her liver was ruptured , one of her lungs had collapsed and the other was punctured .\n",
            "Now it has 175 staging centers , where volunteers are coordinating get-out-the-vote efforts , said Obama 's Georgia spokeswoman , Caroline Adelman .\n",
            "How about a sibling or family friend ?\n",
            "Butler 's the scorer .\n",
            "In the meantime , the multi-talented Bell gets to showcase her musical chops during the end credits of \" When in Rome \" when the cast breaks in to a musical dance number .\n",
            "McCain said he must convince Americans that \" protectionism and isolationism \" could be harmful .\n"
          ]
        }
      ],
      "source": [
        "# recall that our data is just a text file of space-separated tokens, with new lines separating documents\n",
        "!head 1b_benchmark.train.tokens"
      ]
    },
    {
      "cell_type": "code",
      "execution_count": 77,
      "metadata": {
        "colab": {
          "base_uri": "https://localhost:8080/"
        },
        "id": "pR6oEJ4N3Pex",
        "outputId": "93dfb4f6-d108-4f8b-80e3-0db6ed3fa3d4"
      },
      "outputs": [
        {
          "name": "stdout",
          "output_type": "stream",
          "text": [
            "train docs: 61530\n",
            "total train tokens: 1561375\n"
          ]
        }
      ],
      "source": [
        "with open('1b_benchmark.train.tokens', 'r') as f: lines_train = f.readlines()\n",
        "with open('1b_benchmark.dev.tokens', 'r') as f: lines_dev = f.readlines()\n",
        "with open('1b_benchmark.test.tokens', 'r') as f: lines_test = f.readlines()\n",
        "\n",
        "# each element is a list of tokens\n",
        "tokens_train = [line.split() for line in lines_train]\n",
        "\n",
        "print(f'train docs: {len(tokens_train)}')\n",
        "print(f'total train tokens: {sum(len(t) for t in tokens_train)}')\n",
        "\n",
        "# utility fn to flatten the tokens structure\n",
        "def flat(tokens):\n",
        "    for t in tokens:\n",
        "        yield from t"
      ]
    },
    {
      "cell_type": "code",
      "execution_count": 78,
      "metadata": {
        "colab": {
          "base_uri": "https://localhost:8080/"
        },
        "id": "sqAtho_E3dYm",
        "outputId": "4477c48d-0c38-4cd3-b549-6539cfa4dff8"
      },
      "outputs": [
        {
          "name": "stdout",
          "output_type": "stream",
          "text": [
            "unique_tokens: 80663\n",
            "unique_tokens, count>=3: 26604\n",
            "sentence='More people have said an Escher sentence than I have .'\n",
            "tokenized=[0, 1084, 66, 29, 21, 33, 2, 2022, 58, 39, 29, 6, 1, 3, 3, 3, 3, 3, 3, 3, 3, 3, 3, 3, 3]\n",
            "decoded='<START> More people have said an <UNK> sentence than I have . <STOP> <PAD> <PAD> <PAD> <PAD> <PAD> <PAD> <PAD> <PAD> <PAD> <PAD> <PAD> <PAD>'\n"
          ]
        }
      ],
      "source": [
        "# get counts of each token sorted by count, descending\n",
        "# also add a few special tokens (with high counts) so they appear first\n",
        "token_counts = Counter(flat(tokens_train))\n",
        "token_counts['<START>'] = 1000004\n",
        "token_counts['<STOP>'] = 1000003\n",
        "token_counts['<UNK>'] = 1000002\n",
        "token_counts['<PAD>'] = 1000001\n",
        "sorted_tokens = sorted(token_counts.items(), key=lambda x: x[1], reverse=True)\n",
        "\n",
        "print('unique_tokens:', len(token_counts))\n",
        "print('unique_tokens, count>=3:', len([t for t in sorted_tokens if t[1] >= 3]))\n",
        "\n",
        "# make tokenizer for all tokens with count >= 3\n",
        "# note that our tokenizer ends up including START and STOP tokens too\n",
        "tokenizer = {t[0]: i for i, t in enumerate(sorted_tokens) if t[1] >= 3}\n",
        "\n",
        "def pad_to_length(tokens, max_len, tokenizer=tokenizer):\n",
        "    return tokens[:max_len] + [tokenizer['<PAD>']] * (max_len - len(tokens))\n",
        "\n",
        "def tokenize(sentence, pad_to_len=None, include_stop=True, tokenizer=tokenizer):\n",
        "    words = [tokenizer.get(w, tokenizer['<UNK>']) for w in sentence.split()]\n",
        "    # add START and STOP tokens\n",
        "    tokens = [tokenizer['<START>']] + words + ([tokenizer['<STOP>']] * include_stop)\n",
        "\n",
        "    if pad_to_len is not None:\n",
        "        tokens = pad_to_length(tokens, pad_to_len, tokenizer=tokenizer)\n",
        "    return tokens\n",
        "\n",
        "# invert tokenizer for decoding\n",
        "tokenizer_inv = {v:k for k,v in tokenizer.items()}\n",
        "def decode(tokens, tokenizer_inv=tokenizer_inv, end_at_stop=True, omit_pad=True):\n",
        "    tokens = [tokenizer_inv[t] for t in tokens]\n",
        "    if omit_pad:\n",
        "        tokens = [t for t in tokens if t != '<PAD>']\n",
        "    if end_at_stop and '<STOP>' in tokens:\n",
        "        tokens = tokens[:tokens.index('<STOP>')+1]\n",
        "    return ' '.join(tokens)\n",
        "\n",
        "\n",
        "sentence = 'More people have said an Escher sentence than I have .'\n",
        "tokenized = tokenize(sentence, pad_to_len=25) # pad to only 25 so it looks nice\n",
        "decoded = decode(tokenized, end_at_stop=False, omit_pad=False)\n",
        "print(f'{sentence=}\\n{tokenized=}\\n{decoded=}')"
      ]
    },
    {
      "cell_type": "code",
      "execution_count": 79,
      "metadata": {
        "colab": {
          "base_uri": "https://localhost:8080/",
          "height": 472
        },
        "id": "FskRc0sfVzpB",
        "outputId": "5d47c3e0-d173-495e-945b-11a796e20b3e"
      },
      "outputs": [
        {
          "data": {
            "image/png": "[encoded data removed]",
            "text/plain": [
              "<Figure size 640x480 with 1 Axes>"
            ]
          },
          "metadata": {},
          "output_type": "display_data"
        }
      ],
      "source": [
        "plt.hist([len(t) for t in tokens_train], bins=50)\n",
        "plt.title('sequence lengths in the train dataset by tokens')\n",
        "plt.ylabel('# of sequences')\n",
        "plt.xlabel('sequence length in tokens')\n",
        "plt.show()"
      ]
    },
    {
      "cell_type": "code",
      "execution_count": 80,
      "metadata": {
        "colab": {
          "base_uri": "https://localhost:8080/"
        },
        "id": "vWdTLUx53dBC",
        "outputId": "8ef9146f-02f2-4d18-f308-2e8e162c72b6"
      },
      "outputs": [
        {
          "data": {
            "text/plain": [
              "(torch.Size([61530, 100]), torch.Size([12216, 100]))"
            ]
          },
          "execution_count": 80,
          "metadata": {},
          "output_type": "execute_result"
        }
      ],
      "source": [
        "# Notice above that the vast majority of sequences have less than 100 tokens.\n",
        "# For performance we will thus truncate to 100 tokens.\n",
        "\n",
        "MAX_LEN = 100\n",
        "DEVICE = 'mps'\n",
        "\n",
        "data_train = torch.tensor(\n",
        "    [tokenize(t, MAX_LEN) for t in lines_train if len(t) > 0],\n",
        "    dtype=torch.long\n",
        ")\n",
        "data_val = torch.tensor(\n",
        "    [tokenize(t, MAX_LEN) for t in lines_dev if len(t) > 0],\n",
        "    dtype=torch.long\n",
        ")\n",
        "\n",
        "data_train.shape, data_val.shape"
      ]
    },
    {
      "cell_type": "code",
      "execution_count": 81,
      "metadata": {
        "colab": {
          "base_uri": "https://localhost:8080/"
        },
        "id": "-5vI-14-4l5E",
        "outputId": "2a0e419e-5067-4e37-8406-6b7442f271dd"
      },
      "outputs": [
        {
          "data": {
            "text/plain": [
              "(tensor([    0,  3745,    11, 21457,     5,    11,     4, 11879,   165,     8,\n",
              "          1732,     5,     4, 14207,  2973,  2405,    21,    31,  1372,   147,\n",
              "            34,  2439,   350,    15,   382,     5,  1166,    56,    12,   233,\n",
              "            13,   537,    28,    13,   681,   184,    70,   373,  1332,   270,\n",
              "           318,   632,    11,     4,   739,     6,     1,     3,     3,     3,\n",
              "             3,     3,     3,     3,     3,     3,     3,     3,     3,     3,\n",
              "             3,     3,     3,     3,     3,     3,     3,     3,     3,     3,\n",
              "             3,     3,     3,     3,     3,     3,     3,     3,     3,     3,\n",
              "             3,     3,     3,     3,     3,     3,     3,     3,     3,     3,\n",
              "             3,     3,     3,     3,     3,     3,     3,     3,     3]),\n",
              " tensor([ 3745,    11, 21457,     5,    11,     4, 11879,   165,     8,  1732,\n",
              "             5,     4, 14207,  2973,  2405,    21,    31,  1372,   147,    34,\n",
              "          2439,   350,    15,   382,     5,  1166,    56,    12,   233,    13,\n",
              "           537,    28,    13,   681,   184,    70,   373,  1332,   270,   318,\n",
              "           632,    11,     4,   739,     6,     1,     3,     3,     3,     3,\n",
              "             3,     3,     3,     3,     3,     3,     3,     3,     3,     3,\n",
              "             3,     3,     3,     3,     3,     3,     3,     3,     3,     3,\n",
              "             3,     3,     3,     3,     3,     3,     3,     3,     3,     3,\n",
              "             3,     3,     3,     3,     3,     3,     3,     3,     3,     3,\n",
              "             3,     3,     3,     3,     3,     3,     3,     3,     3]))"
            ]
          },
          "execution_count": 81,
          "metadata": {},
          "output_type": "execute_result"
        }
      ],
      "source": [
        "# X is all but last token, Y is all but first token\n",
        "train_dataset = torch.utils.data.TensorDataset(data_train[:, :-1], data_train[:, 1:])\n",
        "val_dataset = torch.utils.data.TensorDataset(data_val[:, :-1], data_val[:, 1:])\n",
        "\n",
        "# example X,Y pair from train dataset -- 2 is <START>, 3 is <STOP>\n",
        "train_dataset[447]"
      ]
    },
    {
      "cell_type": "markdown",
      "metadata": {
        "id": "iA_9KjRBFtD7"
      },
      "source": [
        "### Model and Trainer code"
      ]
    },
    {
      "cell_type": "code",
      "execution_count": 82,
      "metadata": {
        "colab": {
          "base_uri": "https://localhost:8080/"
        },
        "id": "23YUZNlWXdqE",
        "outputId": "bf116663-c9b7-469c-b070-e4e4d14ecfe4"
      },
      "outputs": [
        {
          "name": "stdout",
          "output_type": "stream",
          "text": [
            "number of parameters: 1.41M\n"
          ]
        }
      ],
      "source": [
        "model_config = GPT.get_default_config()\n",
        "model_config.model_type = None\n",
        "model_config.pad_token = tokenizer['<PAD>']\n",
        "\n",
        "# This configuration is the very small 'gpt-nano' defined in minGPT. we'd use a\n",
        "# bigger model like 'gpt2' but it would take a very long time to train :(\n",
        "# See minGPT/model.py for configurations of other models\n",
        "model_config.model_type = 'gpt-nano'\n",
        "# 'gpt-nano' equivalent to:\n",
        "# model_config.n_layer = 3\n",
        "# model_config.n_head = 3\n",
        "# model_config.n_embd = 48\n",
        "\n",
        "model_config.vocab_size = max(tokenizer.values()) + 1\n",
        "# model_config.vocab_size = 50257 # openai's model vocabulary, if using gpt2 BPE\n",
        "\n",
        "# The model's context length\n",
        "# Note that minGPT has learned posemb, so outside the used maxlen wont really work\n",
        "model_config.block_size = 1024\n",
        "\n",
        "# We modified config to accept some functions for attention\n",
        "# Feel free to replace either of these!\n",
        "model_config.attn_init_fn = init_qkv_proj\n",
        "model_config.attn_fn = self_attention\n",
        "\n",
        "# Can use the wrapper around PyTorch's multi-head attention instead, but it's hard to modify for experiments\n",
        "# model_config.attn_fn = MHA_wrapper\n",
        "\n",
        "model = GPT(model_config)"
      ]
    },
    {
      "cell_type": "code",
      "execution_count": 83,
      "metadata": {},
      "outputs": [],
      "source": [
        "import math\n",
        "\n",
        "class SinCosPosEmbed(nn.Module):\n",
        "    def __init__(self, block_size, n_embd, init_len=10000, n=10000, device=\"mps\"):\n",
        "        super().__init__()\n",
        "        self.n_embd = n_embd\n",
        "        self.block_size = block_size\n",
        "        self.init_len = init_len\n",
        "        self.n = n\n",
        "        self.device = device\n",
        "        self.embd = self.construct_pos_embd().to(device)\n",
        "\n",
        "    def forward(self, pos):\n",
        "        _, t = pos.size()\n",
        "        if t > self.init_len:\n",
        "            self.init_len = t\n",
        "            self.embd = self.construct_pos_embd()\n",
        "        assert t <= self.block_size\n",
        "        return self.embd[:t]\n",
        "        \n",
        "    def construct_pos_embd(self):\n",
        "        embd = []\n",
        "        for t in range(self.init_len):\n",
        "            token_embd = []\n",
        "            for i in range(self.n_embd):\n",
        "                if i % 2 == 0:\n",
        "                    token_embd.append(\n",
        "                        math.sin(t / (self.n ** (i / self.n_embd)))\n",
        "                    )\n",
        "                else:\n",
        "                    token_embd.append(\n",
        "                        math.cos(t / (self.n ** (i / self.n_embd)))\n",
        "                    )\n",
        "            embd.append(token_embd)\n",
        "        return torch.Tensor(embd)\n",
        "\n",
        "        \n",
        "# model.transformer.wpe = SinCosPosEmbed(block_size=model_config.block_size,\n",
        "#                                        n_embd=model_config.n_embd,\n",
        "#                                        init_len=1000,\n",
        "#                                        n=10000).to(DEVICE)"
      ]
    },
    {
      "cell_type": "code",
      "execution_count": 84,
      "metadata": {
        "colab": {
          "base_uri": "https://localhost:8080/"
        },
        "id": "cpiidVCLFRI1",
        "outputId": "87f409b8-98aa-4fd5-f45a-2e9879fc8b69"
      },
      "outputs": [
        {
          "name": "stdout",
          "output_type": "stream",
          "text": [
            "running on device mps\n"
          ]
        }
      ],
      "source": [
        "train_config = Trainer.get_default_config()\n",
        "train_config.device = DEVICE\n",
        "train_config.num_workers = 2\n",
        "\n",
        "# We didn't tune the hyperparameters at all, feel free to change\n",
        "train_config.learning_rate = 5e-4\n",
        "train_config.batch_size = 32\n",
        "train_config.max_iters = len(train_dataset) // train_config.batch_size  # train for 1 epoch\n",
        "\n",
        "trainer = Trainer(train_config, model, train_dataset)\n",
        "log = []"
      ]
    },
    {
      "cell_type": "code",
      "execution_count": 85,
      "metadata": {
        "colab": {
          "base_uri": "https://localhost:8080/",
          "height": 49,
          "referenced_widgets": [
            "654b1f0f5a494e3d82791c49352c9cf4",
            "a878471d582641029e3617e27beab9ed",
            "557eda109bfc4af78d746e7f2d71ae1d",
            "cd4bd97ee77545b8af8f995b266b118f",
            "5875afeeb83f44aab73f5acf53b7eff6",
            "1e9749ba90ae45c59cff1a38af62c38e",
            "75bdd6a9d3d543c0b311bc08d23ad5f9",
            "0b1e56cfd3df46acbc1731221bc21735",
            "546b11ddb3194e249665c37ba628a637",
            "23935e42f11742d6bbc1341a4fec75e5",
            "160428ccc7674ee0b5ff0f0dcda591ab"
          ]
        },
        "id": "AsG2YKwl6TQ6",
        "outputId": "a409ed83-ac0b-41b0-f238-079164f47f92"
      },
      "outputs": [
        {
          "data": {
            "application/vnd.jupyter.widget-view+json": {
              "model_id": "6414cfd062f04996803e546eac162eb4",
              "version_major": 2,
              "version_minor": 0
            },
            "text/plain": [
              "  0%|          | 0/1922 [00:00<?, ?it/s]"
            ]
          },
          "metadata": {},
          "output_type": "display_data"
        }
      ],
      "source": [
        "model.to(DEVICE)\n",
        "model.train()\n",
        "\n",
        "bar = tqdm(total=train_config.max_iters)\n",
        "@torch.no_grad()\n",
        "def on_batch_end(trainer):\n",
        "    log.append( trainer.loss.item() )\n",
        "    bar.set_postfix(loss=trainer.loss.item())\n",
        "    bar.update()\n",
        "\n",
        "trainer.set_callback('on_batch_end', on_batch_end)\n",
        "trainer.run()\n",
        "bar.close()"
      ]
    },
    {
      "cell_type": "code",
      "execution_count": 86,
      "metadata": {
        "colab": {
          "base_uri": "https://localhost:8080/",
          "height": 449
        },
        "id": "51hvz7DJD0P4",
        "outputId": "9e53ca9f-ac2c-444a-aa62-63b79aa57871"
      },
      "outputs": [
        {
          "data": {
            "image/png": "[encoded data removed]",
            "text/plain": [
              "<Figure size 640x480 with 1 Axes>"
            ]
          },
          "metadata": {},
          "output_type": "display_data"
        }
      ],
      "source": [
        "plt.plot(log)\n",
        "plt.xlabel('step')\n",
        "plt.ylabel('loss')\n",
        "plt.show()"
      ]
    },
    {
      "cell_type": "markdown",
      "metadata": {
        "id": "kiKGNMI9FynC"
      },
      "source": [
        "### Evaluation\n",
        "\n",
        "Like in A1, we will treat each line in the data file as a separate document. So, compute perplexity for each line separately and then take the average across all lines.\n",
        "\n",
        "However, the way we processed our data for batching makes it slightly more complicated, because the loss is averaged over tokens. While this would normally be simple, recall that we insert `<PAD>` tokens as padding until 100 tokens, and the vast majority of documents are significantly less than 100 tokens. This means that most of our tokens are the long tail of `<PAD>`s.\n",
        "\n",
        "So, we wish to exlude every `<PAD>` from perplexity calculations. Since the loss returned by the model is averaged for all tokens. PyTorch has great utilities for excluding a padding token from calculations, but we will also do this manually as a demonstration.\n",
        "\n",
        "However, this isn't the end of the story. Ideally, we would make `<PAD>` tokens have no effect whatsoever. For this to happen, we should apply a mask out all attention to and from `<PAD>` tokens, but we chose not to include that in your required implementation. The fact that we did not implement this has no measurable impact because our minGPT fork zeros out values for `<PAD>` tokens after attention anyway."
      ]
    },
    {
      "cell_type": "code",
      "execution_count": 87,
      "metadata": {
        "colab": {
          "base_uri": "https://localhost:8080/"
        },
        "id": "d0x3E0jBjoAL",
        "outputId": "04ebfbb3-cba0-4f75-e796-b3dd6f46c453"
      },
      "outputs": [
        {
          "name": "stdout",
          "output_type": "stream",
          "text": [
            "notice the long tail of PAD tokens:  [0, 7441, 64, 98, 149, 2, 9, 2697, 15, 72, 168, 171, 20, 46, 236, 1, 3, 3, 3, 3, 3, 3, 3, 3, 3, 3, 3, 3, 3, 3, 3, 3, 3, 3, 3, 3, 3, 3, 3, 3, 3, 3, 3, 3, 3, 3, 3, 3, 3, 3, 3, 3, 3, 3, 3, 3, 3, 3, 3, 3, 3, 3, 3, 3, 3, 3, 3, 3, 3, 3, 3, 3, 3, 3, 3, 3, 3, 3, 3, 3, 3, 3, 3, 3, 3, 3, 3, 3, 3, 3, 3, 3, 3, 3, 3, 3, 3, 3, 3, 3]\n",
            "\n",
            "reported loss from model:\t 14.594244956970215\n",
            "manually calculated loss:\t 14.594242095947266\n",
            "manually calculated loss again:\t 14.594244003295898\n",
            "perplexity: 2178707.0\n"
          ]
        }
      ],
      "source": [
        "sentence = 'Thank you so much Liwei and Taylor for all your help with this !'\n",
        "\n",
        "tokens = torch.tensor([tokenize(sentence, pad_to_len=MAX_LEN)], dtype=torch.long)\n",
        "X_tokens, y_tokens = tokens[:, :-1], tokens[:, 1:]\n",
        "\n",
        "print('notice the long tail of PAD tokens: ', tokens.cpu()[0].tolist())\n",
        "\n",
        "model.eval()\n",
        "with torch.no_grad():\n",
        "    logits, loss = model(X_tokens.to(DEVICE), y_tokens.to(DEVICE))\n",
        "    logits, loss = logits.cpu(), loss.cpu()\n",
        "\n",
        "# Preprocess logits to unpad -- will be (jagged) list of tensors\n",
        "# We impl looping over them\n",
        "# students have to: convert 1 document's raw logits + y_tokens into loss and ppl\n",
        "\n",
        "# There's more ways to get the loss!\n",
        "\n",
        "# We could use F.cross_entropy with the logits -- this is what the model does\n",
        "# F.cross_entropy can take an \"ignore_index\", which makes it ignore our pad token\n",
        "also_loss = F.cross_entropy(logits.flatten(0,1), y_tokens.flatten(0,1),\n",
        "                            ignore_index=tokenizer['<PAD>'])\n",
        "\n",
        "# However, we can just do the calculations manually because we enjoy being perplexed\n",
        "\n",
        "# softmax the logits to get probabilities\n",
        "probs = F.softmax(logits, dim=-1)\n",
        "\n",
        "# work with log of the probabilities for numerical stability\n",
        "log_probs = torch.log(probs)\n",
        "\n",
        "# this is weird pytorch screwery to index into last dimension of log_probs with y_tokens\n",
        "# this selects only the log probabilities of the target tokens\n",
        "y_log_probs = torch.gather(log_probs, -1, y_tokens[..., None])[..., 0]\n",
        "\n",
        "# get all the target log probabilities EXCEPT for when that target token is <PAD>\n",
        "not_pad_y_log_probs = y_log_probs[y_tokens != tokenizer['<PAD>']]\n",
        "\n",
        "# negative average of the log probs of the target tokens is exactly crossentropy loss here!\n",
        "also_loss_again = -not_pad_y_log_probs.mean()\n",
        "\n",
        "print()\n",
        "print('reported loss from model:\\t', loss.item())\n",
        "print('manually calculated loss:\\t', also_loss.item())\n",
        "print('manually calculated loss again:\\t', also_loss_again.item())\n",
        "\n",
        "# we can calculate perplexity using the crossentropy loss\n",
        "perplexity = torch.exp(also_loss)\n",
        "print('perplexity:', perplexity.item())"
      ]
    },
    {
      "cell_type": "code",
      "execution_count": 88,
      "metadata": {
        "id": "D3lt5oEY-mrg"
      },
      "outputs": [],
      "source": [
        "\"\"\"\n",
        "We've made a utility function to calculate loss per-document for some data.\n",
        "It accepts a list of strings, tokenizes, evaluates, and returns a list of floats.\n",
        "\"\"\"\n",
        "@torch.no_grad\n",
        "def evaluate_losses(data, model=model, bs=32, progress=True, pad_to_len=MAX_LEN):\n",
        "    it = range(0, len(data), bs)\n",
        "    if progress: it = tqdm(it)\n",
        "\n",
        "    out = []\n",
        "    for b_start in it:\n",
        "        batch = slice(b_start, b_start+bs)\n",
        "        tokens = torch.tensor(\n",
        "            [tokenize(t, pad_to_len=pad_to_len) for t in data[batch]],\n",
        "            dtype=torch.long).to(DEVICE)\n",
        "        X_tokens, y_tokens = tokens[:, :-1].contiguous(), tokens[:, 1:].contiguous()\n",
        "\n",
        "        model.eval()\n",
        "        logits, _ = model(X_tokens, y_tokens)\n",
        "        log_probs = F.log_softmax(logits, dim=-1)\n",
        "        y_log_probs = torch.gather(log_probs, 2, y_tokens[..., None])[..., 0]\n",
        "\n",
        "        for i in range(y_tokens.shape[0]):\n",
        "            not_pad = (y_tokens[i] != tokenizer['<PAD>'])\n",
        "            loss = -y_log_probs[i, not_pad].mean()\n",
        "            out.append(loss.item())\n",
        "        \n",
        "    return out"
      ]
    },
    {
      "cell_type": "code",
      "execution_count": 89,
      "metadata": {
        "colab": {
          "base_uri": "https://localhost:8080/"
        },
        "id": "N3H2xndS_kOG",
        "outputId": "b87a9b19-bb62-4f6e-b8b7-18a815d6a070"
      },
      "outputs": [
        {
          "name": "stdout",
          "output_type": "stream",
          "text": [
            "loss: 21.659404754638672\n",
            "perplexity: 2550116176.8773146\n"
          ]
        }
      ],
      "source": [
        "# calculate loss and perplexity for a single sentence\n",
        "is_this_loss = evaluate_losses(['After learning language models model natural language',], progress=False)[0]\n",
        "print('loss:', is_this_loss)\n",
        "print('perplexity:', np.exp(is_this_loss))"
      ]
    },
    {
      "cell_type": "code",
      "execution_count": 90,
      "metadata": {},
      "outputs": [
        {
          "name": "stdout",
          "output_type": "stream",
          "text": [
            "loss: 12.74100399017334\n",
            "perplexity 341466.20416197006\n"
          ]
        }
      ],
      "source": [
        "long_seq_loss = evaluate_losses([\"\"\"\n",
        "    On offering to help the blind man, the man who then stole his car, had not, at that precise moment, had any evil intention, quite the contrary, what he did was nothing more than obey those feelings of generosity and altruism which, as everyone knows, are the two best traits of human nature and to be found in much more hardened criminals than this one, a simple car-thief without any hope of advancing in his profession, exploited by the real owners of this enterprise, for it is they who take advantage of the needs of the poor.\n",
        "\"\"\"], progress=False)[0]\n",
        "print('loss:', long_seq_loss)\n",
        "print('perplexity', np.exp(long_seq_loss))"
      ]
    },
    {
      "cell_type": "code",
      "execution_count": 91,
      "metadata": {
        "colab": {
          "base_uri": "https://localhost:8080/",
          "height": 68,
          "referenced_widgets": [
            "34b4915008a44c6f85013926808e8c3f",
            "8b524645a11148d8a8034338383092a5",
            "b24209beff314a15be627588512cfdd5",
            "def02343ec384ad9bf1634a24887bd36",
            "ea022ee3889b41368a09ad420f4a370c",
            "3d91782426874b8a9fb8ea2c6c93ceb1",
            "9c045e3ffe564b9ebc178d33e9b3240e",
            "a4c9a98c2d894982923b70cc4c4fab38",
            "6d36a2f8dd474929b6f519db74037a0a",
            "bcfcd683af664547bc1c0ce3eead6019",
            "baea8bc35d2c49568df96627a51cf535"
          ]
        },
        "id": "9Q3pLW8KCp3M",
        "outputId": "99f71bbe-5cdd-4873-e4d8-37b3bf5631e1"
      },
      "outputs": [
        {
          "data": {
            "application/vnd.jupyter.widget-view+json": {
              "model_id": "f7818793de534c67a1ec0d5448c0bfc5",
              "version_major": 2,
              "version_minor": 0
            },
            "text/plain": [
              "  0%|          | 0/1923 [00:00<?, ?it/s]"
            ]
          },
          "metadata": {},
          "output_type": "display_data"
        },
        {
          "name": "stdout",
          "output_type": "stream",
          "text": [
            "train perplexity: 362.84250592658566\n",
            "train ce loss: 5.632350856985054\n"
          ]
        }
      ],
      "source": [
        "train_losses = evaluate_losses(lines_train)\n",
        "print('train perplexity:', np.mean(np.exp(train_losses)))\n",
        "print('train ce loss:', np.mean(train_losses))"
      ]
    },
    {
      "cell_type": "code",
      "execution_count": 92,
      "metadata": {
        "colab": {
          "base_uri": "https://localhost:8080/",
          "height": 68,
          "referenced_widgets": [
            "44a30b232cd445b4a5f8f2fdfa0057d6",
            "f5db705a1f7249b7a678eccc464c940c",
            "39b847f7ba2e498c8ab96a518f287a02",
            "2591716e84f0437b834a49e97668352a",
            "798be80a2ac84e429eebb2ddc2fc3e87",
            "b2d7f0e55935455399ed1c581960aad7",
            "23cbe19dc9af4b278fc97ff8adab8b21",
            "1cbac7942d3d41d4ad473e545d9d91e9",
            "0d6fffe47ab748e9a0b02df4a2a83ddd",
            "631e8936adf549559af55b990f0522ed",
            "37983ce94da64399bdd38162419c04b4"
          ]
        },
        "id": "MhfpHorSgKZS",
        "outputId": "64b8c638-6120-432b-caf4-93f14fc16189"
      },
      "outputs": [
        {
          "data": {
            "application/vnd.jupyter.widget-view+json": {
              "model_id": "0b4e2caf331543088f345fd05260680e",
              "version_major": 2,
              "version_minor": 0
            },
            "text/plain": [
              "  0%|          | 0/382 [00:00<?, ?it/s]"
            ]
          },
          "metadata": {},
          "output_type": "display_data"
        },
        {
          "name": "stdout",
          "output_type": "stream",
          "text": [
            "dev perplexity: 345.5733325018242\n",
            "dev ce loss: 5.5913740692571166\n"
          ]
        }
      ],
      "source": [
        "dev_losses = evaluate_losses(lines_dev)\n",
        "print('dev perplexity:', np.mean(np.exp(dev_losses)))\n",
        "print('dev ce loss:', np.mean(dev_losses))"
      ]
    },
    {
      "cell_type": "code",
      "execution_count": 93,
      "metadata": {
        "colab": {
          "base_uri": "https://localhost:8080/"
        },
        "id": "xAhf10OwMMPN",
        "outputId": "66b82a11-d549-4a8d-d070-1ea991507e6b"
      },
      "outputs": [
        {
          "name": "stdout",
          "output_type": "stream",
          "text": [
            "<START> <UNK> <UNK> \" <UNK> <UNK> <UNK> <UNK> \" <UNK> <UNK> <UNK> \" <UNK> <UNK> <UNK> <UNK> \" <UNK> <UNK> <UNK> <UNK> \" <UNK> <UNK> <UNK> <UNK> <UNK> <UNK> <UNK> <UNK> \" <UNK> , <UNK> <UNK> <UNK> <UNK> <UNK> <UNK> \" <UNK> <UNK> <UNK> <UNK> <UNK> \" \" \" \" <UNK> , <UNK> <UNK> \" <UNK> <UNK> \" <UNK> <UNK> \" <UNK> <UNK> \" \" \" \" \" <UNK> <UNK> \" <UNK> \" \" <UNK> \" <UNK> \" \" <UNK> <UNK> <UNK> \" \" <UNK> <UNK> \" <UNK> <UNK> \" , <UNK> \" <UNK> \" \" \" , <UNK> \"\n",
            "<START> <UNK> <UNK> <UNK> <UNK> <UNK> <UNK> <UNK> <UNK> <UNK> <UNK> <UNK> <UNK> \" <UNK> <UNK> <UNK> <UNK> <UNK> <UNK> <UNK> <UNK> <UNK> <UNK> <UNK> <UNK> <UNK> <UNK> <UNK> <UNK> <UNK> <UNK> <UNK> <UNK> <UNK> <UNK> <UNK> the \" <UNK> <UNK> <UNK> \" \" \" and \" <UNK> \" <UNK> \" <UNK> \" <UNK> \" \" <UNK> <UNK> <UNK> to <UNK> <UNK> \" \" <UNK> \" \" <UNK> \" well \" <UNK> <UNK> \" \" \" \" \" \" <UNK> \" \" <UNK> the \" <UNK> \" \" \" <UNK> \" <UNK> \" \" <UNK> <UNK> \" \" \" \"\n",
            "<START> <UNK> \" <UNK> <UNK> <UNK> <UNK> <UNK> <UNK> <UNK> <UNK> <UNK> <UNK> <UNK> <UNK> <UNK> <UNK> , \" <UNK> <UNK> <UNK> <UNK> <UNK> <UNK> <UNK> <UNK> <UNK> \" <UNK> <UNK> \" <UNK> <UNK> <UNK> \" <UNK> <UNK> <UNK> <UNK> <UNK> <UNK> \" <UNK> \" , <UNK> \" <UNK> \" <UNK> <UNK> <UNK> \" <UNK> <UNK> \" \" <UNK> , \" \" \" \" <UNK> \" <UNK> \" \" \" \" <UNK> <UNK> \" <UNK> . \" \" \" \" \" \" <UNK> \" \" <UNK> <UNK> <UNK> \" \" <UNK> <UNK> \" \" and \" <UNK> \" \" \"\n",
            "<START> <UNK> \" <UNK> \" <UNK> \" <UNK> <UNK> <UNK> <UNK> <UNK> <UNK> <UNK> <UNK> <UNK> <UNK> <UNK> <UNK> <UNK> <UNK> \" <UNK> <UNK> <UNK> \" \" <UNK> <UNK> \" <UNK> <UNK> <UNK> <UNK> <UNK> <UNK> <UNK> \" \" \" \" <UNK> \" <UNK> \" \" <UNK> <UNK> \" <UNK> <UNK> <UNK> <UNK> <UNK> the <UNK> <UNK> <UNK> \" \" <UNK> <UNK> \" \" <UNK> <UNK> \" It \" <UNK> \" \" , \" <UNK> \" <UNK> \" \" <UNK> \" \" \" \" \" \" \" <UNK> \" \" <UNK> <UNK> \" <UNK> \" <UNK> \" \" \" <UNK>\n",
            "<START> <UNK> <UNK> <UNK> <UNK> \" <UNK> <UNK> <UNK> <UNK> <UNK> <UNK> <UNK> <UNK> <UNK> <UNK> <UNK> <UNK> <UNK> <UNK> <UNK> <UNK> <UNK> \" <UNK> <UNK> <UNK> <UNK> <UNK> <UNK> the <UNK> <UNK> <UNK> <UNK> <UNK> <UNK> , \" <UNK> <UNK> \" \" \" <UNK> <UNK> <UNK> <UNK> \" <UNK> <UNK> \" \" <UNK> <UNK> <UNK> <UNK> <UNK> \" \" \" \" \" <UNK> <UNK> <UNK> \" \" \" <UNK> <UNK> <UNK> \" , \" \" \" \" \" <UNK> \" <UNK> \" \" \" <UNK> \" \" <UNK> \" <UNK> \" \" <UNK> \" <UNK> \" \" \" \"\n",
            "<START> <UNK> <UNK> <UNK> <UNK> <UNK> <UNK> <UNK> <UNK> <UNK> <UNK> <UNK> <UNK> <UNK> \" <UNK> <UNK> <UNK> \" <UNK> <UNK> <UNK> <UNK> <UNK> <UNK> <UNK> <UNK> <UNK> <UNK> <UNK> <UNK> <UNK> <UNK> <UNK> \" <UNK> <UNK> \" <UNK> to \" \" <UNK> \" \" \" \" <UNK> <UNK> \" \" <UNK> \" <UNK> \" <UNK> \" \" \" \" <UNK> \" \" <UNK> \" <UNK> \" \" \" <UNK> <UNK> \" \" \" \" \" \" \" \" \" \" \" \" \" \" \" \" \" <UNK> <UNK> , <UNK> \" \" . \" <UNK> <UNK> \" to\n",
            "<START> <UNK> <UNK> <UNK> <UNK> <UNK> \" <UNK> <UNK> <UNK> <UNK> <UNK> <UNK> <UNK> <UNK> <UNK> <UNK> <UNK> <UNK> <UNK> <UNK> <UNK> <UNK> <UNK> <UNK> <UNK> \" <UNK> <UNK> <UNK> <UNK> \" <UNK> \" <UNK> <UNK> a <UNK> <UNK> <UNK> \" <UNK> <UNK> <UNK> <UNK> <UNK> \" <UNK> <UNK> <UNK> \" <UNK> \" \" \" \" \" \" \" <UNK> <UNK> \" \" <UNK> \" <UNK> to \" \" \" <UNK> \" the <UNK> \" <UNK> , \" \" \" <UNK> \" <UNK> \" \" <UNK> \" \" \" <UNK> \" \" \" \" \" \" <UNK> <UNK> <UNK> \"\n",
            "<START> <UNK> <UNK> <UNK> <UNK> <UNK> \" \" <UNK> <UNK> <UNK> <UNK> <UNK> <UNK> <UNK> \" <UNK> <UNK> <UNK> <UNK> <UNK> <UNK> <UNK> <UNK> <UNK> <UNK> <UNK> <UNK> <UNK> <UNK> <UNK> <UNK> <UNK> <UNK> \" <UNK> <UNK> <UNK> <UNK> \" \" <UNK> <UNK> <UNK> , <UNK> <UNK> \" \" <UNK> <UNK> <UNK> <UNK> <UNK> \" \" <UNK> \" \" <UNK> <UNK> <UNK> <UNK> \" \" \" <UNK> \" \" <UNK> \" <UNK> \" <UNK> <UNK> \" \" \" \" \" \" \" <UNK> <UNK> <UNK> <UNK> <UNK> \" \" <UNK> \" \" <UNK> \" <UNK> \" \" <UNK> \" <UNK>\n",
            "<START> <UNK> <UNK> the <UNK> <UNK> \" <UNK> <UNK> <UNK> <UNK> \" the <UNK> \" <UNK> <UNK> <UNK> <UNK> <UNK> <UNK> <UNK> , <UNK> <UNK> <UNK> <UNK> <UNK> <UNK> <UNK> <UNK> <UNK> <UNK> <UNK> <UNK> <UNK> \" <UNK> <UNK> <UNK> <UNK> <UNK> <UNK> \" <UNK> <UNK> \" <UNK> <UNK> <UNK> <UNK> <UNK> <UNK> <UNK> \" <UNK> \" <UNK> <UNK> \" <UNK> \" <UNK> <UNK> \" \" \" \" <UNK> <UNK> \" \" <UNK> <UNK> <UNK> <UNK> \" \" <UNK> <UNK> \" \" <UNK> <UNK> \" \" \" . <UNK> . <UNK> <UNK> <UNK> <UNK> \" \" \" \" \" <UNK>\n",
            "<START> <UNK> <UNK> <UNK> <UNK> <UNK> <UNK> <UNK> <UNK> <UNK> <UNK> <UNK> \" <UNK> <UNK> <UNK> \" <UNK> <UNK> <UNK> <UNK> \" <UNK> <UNK> <UNK> <UNK> <UNK> <UNK> \" <UNK> <UNK> <UNK> \" <UNK> <UNK> <UNK> \" <UNK> <UNK> <UNK> <UNK> <UNK> \" \" <UNK> , <UNK> <UNK> \" <UNK> <UNK> \" \" <UNK> \" . \" <UNK> <UNK> \" <UNK> \" <UNK> \" \" <UNK> <UNK> \" \" \" \" \" \" \" <UNK> <UNK> <UNK> <UNK> \" <UNK> . \" <UNK> <UNK> \" \" \" \" \" \" <UNK> \" \" \" \" \" \" \" <UNK> <UNK>\n"
          ]
        }
      ],
      "source": [
        "# Here's an example of generating using the model -- see generate in minGPT's model.py\n",
        "\n",
        "sentence = ''                         # empty prompt -> sample from model at random\n",
        "# sentence = 'unfortunately ,'          # can sample more negative stuff\n",
        "# sentence = 'fun fact : did you know'  # AI-generated fun facts\n",
        "\n",
        "tokens = torch.tensor([tokenize(sentence, include_stop=False)], dtype=torch.long).to(DEVICE)\n",
        "\n",
        "for _ in range(10):\n",
        "    pred = model.generate(tokens, MAX_LEN-tokens.shape[-1],\n",
        "                        temperature=1.0, do_sample=True, top_k=None)\n",
        "\n",
        "    print(decode(pred[0].tolist()))"
      ]
    }
  ],
  "metadata": {
    "accelerator": "GPU",
    "colab": {
      "gpuType": "T4",
      "provenance": []
    },
    "kernelspec": {
      "display_name": "Python 3",
      "name": "python3"
    },
    "language_info": {
      "codemirror_mode": {
        "name": "ipython",
        "version": 3
      },
      "file_extension": ".py",
      "mimetype": "text/x-python",
      "name": "python",
      "nbconvert_exporter": "python",
      "pygments_lexer": "ipython3",
      "version": "3.10.13"
    },
    "widgets": {
      "application/vnd.jupyter.widget-state+json": {
        "0b1e56cfd3df46acbc1731221bc21735": {
          "model_module": "@jupyter-widgets/base",
          "model_module_version": "1.2.0",
          "model_name": "LayoutModel",
          "state": {
            "_model_module": "@jupyter-widgets/base",
            "_model_module_version": "1.2.0",
            "_model_name": "LayoutModel",
            "_view_count": null,
            "_view_module": "@jupyter-widgets/base",
            "_view_module_version": "1.2.0",
            "_view_name": "LayoutView",
            "align_content": null,
            "align_items": null,
            "align_self": null,
            "border": null,
            "bottom": null,
            "display": null,
            "flex": null,
            "flex_flow": null,
            "grid_area": null,
            "grid_auto_columns": null,
            "grid_auto_flow": null,
            "grid_auto_rows": null,
            "grid_column": null,
            "grid_gap": null,
            "grid_row": null,
            "grid_template_areas": null,
            "grid_template_columns": null,
            "grid_template_rows": null,
            "height": null,
            "justify_content": null,
            "justify_items": null,
            "left": null,
            "margin": null,
            "max_height": null,
            "max_width": null,
            "min_height": null,
            "min_width": null,
            "object_fit": null,
            "object_position": null,
            "order": null,
            "overflow": null,
            "overflow_x": null,
            "overflow_y": null,
            "padding": null,
            "right": null,
            "top": null,
            "visibility": null,
            "width": null
          }
        },
        "0d6fffe47ab748e9a0b02df4a2a83ddd": {
          "model_module": "@jupyter-widgets/controls",
          "model_module_version": "1.5.0",
          "model_name": "ProgressStyleModel",
          "state": {
            "_model_module": "@jupyter-widgets/controls",
            "_model_module_version": "1.5.0",
            "_model_name": "ProgressStyleModel",
            "_view_count": null,
            "_view_module": "@jupyter-widgets/base",
            "_view_module_version": "1.2.0",
            "_view_name": "StyleView",
            "bar_color": null,
            "description_width": ""
          }
        },
        "160428ccc7674ee0b5ff0f0dcda591ab": {
          "model_module": "@jupyter-widgets/controls",
          "model_module_version": "1.5.0",
          "model_name": "DescriptionStyleModel",
          "state": {
            "_model_module": "@jupyter-widgets/controls",
            "_model_module_version": "1.5.0",
            "_model_name": "DescriptionStyleModel",
            "_view_count": null,
            "_view_module": "@jupyter-widgets/base",
            "_view_module_version": "1.2.0",
            "_view_name": "StyleView",
            "description_width": ""
          }
        },
        "1cbac7942d3d41d4ad473e545d9d91e9": {
          "model_module": "@jupyter-widgets/base",
          "model_module_version": "1.2.0",
          "model_name": "LayoutModel",
          "state": {
            "_model_module": "@jupyter-widgets/base",
            "_model_module_version": "1.2.0",
            "_model_name": "LayoutModel",
            "_view_count": null,
            "_view_module": "@jupyter-widgets/base",
            "_view_module_version": "1.2.0",
            "_view_name": "LayoutView",
            "align_content": null,
            "align_items": null,
            "align_self": null,
            "border": null,
            "bottom": null,
            "display": null,
            "flex": null,
            "flex_flow": null,
            "grid_area": null,
            "grid_auto_columns": null,
            "grid_auto_flow": null,
            "grid_auto_rows": null,
            "grid_column": null,
            "grid_gap": null,
            "grid_row": null,
            "grid_template_areas": null,
            "grid_template_columns": null,
            "grid_template_rows": null,
            "height": null,
            "justify_content": null,
            "justify_items": null,
            "left": null,
            "margin": null,
            "max_height": null,
            "max_width": null,
            "min_height": null,
            "min_width": null,
            "object_fit": null,
            "object_position": null,
            "order": null,
            "overflow": null,
            "overflow_x": null,
            "overflow_y": null,
            "padding": null,
            "right": null,
            "top": null,
            "visibility": null,
            "width": null
          }
        },
        "1e9749ba90ae45c59cff1a38af62c38e": {
          "model_module": "@jupyter-widgets/base",
          "model_module_version": "1.2.0",
          "model_name": "LayoutModel",
          "state": {
            "_model_module": "@jupyter-widgets/base",
            "_model_module_version": "1.2.0",
            "_model_name": "LayoutModel",
            "_view_count": null,
            "_view_module": "@jupyter-widgets/base",
            "_view_module_version": "1.2.0",
            "_view_name": "LayoutView",
            "align_content": null,
            "align_items": null,
            "align_self": null,
            "border": null,
            "bottom": null,
            "display": null,
            "flex": null,
            "flex_flow": null,
            "grid_area": null,
            "grid_auto_columns": null,
            "grid_auto_flow": null,
            "grid_auto_rows": null,
            "grid_column": null,
            "grid_gap": null,
            "grid_row": null,
            "grid_template_areas": null,
            "grid_template_columns": null,
            "grid_template_rows": null,
            "height": null,
            "justify_content": null,
            "justify_items": null,
            "left": null,
            "margin": null,
            "max_height": null,
            "max_width": null,
            "min_height": null,
            "min_width": null,
            "object_fit": null,
            "object_position": null,
            "order": null,
            "overflow": null,
            "overflow_x": null,
            "overflow_y": null,
            "padding": null,
            "right": null,
            "top": null,
            "visibility": null,
            "width": null
          }
        },
        "23935e42f11742d6bbc1341a4fec75e5": {
          "model_module": "@jupyter-widgets/base",
          "model_module_version": "1.2.0",
          "model_name": "LayoutModel",
          "state": {
            "_model_module": "@jupyter-widgets/base",
            "_model_module_version": "1.2.0",
            "_model_name": "LayoutModel",
            "_view_count": null,
            "_view_module": "@jupyter-widgets/base",
            "_view_module_version": "1.2.0",
            "_view_name": "LayoutView",
            "align_content": null,
            "align_items": null,
            "align_self": null,
            "border": null,
            "bottom": null,
            "display": null,
            "flex": null,
            "flex_flow": null,
            "grid_area": null,
            "grid_auto_columns": null,
            "grid_auto_flow": null,
            "grid_auto_rows": null,
            "grid_column": null,
            "grid_gap": null,
            "grid_row": null,
            "grid_template_areas": null,
            "grid_template_columns": null,
            "grid_template_rows": null,
            "height": null,
            "justify_content": null,
            "justify_items": null,
            "left": null,
            "margin": null,
            "max_height": null,
            "max_width": null,
            "min_height": null,
            "min_width": null,
            "object_fit": null,
            "object_position": null,
            "order": null,
            "overflow": null,
            "overflow_x": null,
            "overflow_y": null,
            "padding": null,
            "right": null,
            "top": null,
            "visibility": null,
            "width": null
          }
        },
        "23cbe19dc9af4b278fc97ff8adab8b21": {
          "model_module": "@jupyter-widgets/controls",
          "model_module_version": "1.5.0",
          "model_name": "DescriptionStyleModel",
          "state": {
            "_model_module": "@jupyter-widgets/controls",
            "_model_module_version": "1.5.0",
            "_model_name": "DescriptionStyleModel",
            "_view_count": null,
            "_view_module": "@jupyter-widgets/base",
            "_view_module_version": "1.2.0",
            "_view_name": "StyleView",
            "description_width": ""
          }
        },
        "2591716e84f0437b834a49e97668352a": {
          "model_module": "@jupyter-widgets/controls",
          "model_module_version": "1.5.0",
          "model_name": "HTMLModel",
          "state": {
            "_dom_classes": [],
            "_model_module": "@jupyter-widgets/controls",
            "_model_module_version": "1.5.0",
            "_model_name": "HTMLModel",
            "_view_count": null,
            "_view_module": "@jupyter-widgets/controls",
            "_view_module_version": "1.5.0",
            "_view_name": "HTMLView",
            "description": "",
            "description_tooltip": null,
            "layout": "IPY_MODEL_631e8936adf549559af55b990f0522ed",
            "placeholder": "​",
            "style": "IPY_MODEL_37983ce94da64399bdd38162419c04b4",
            "value": " 382/382 [00:06&lt;00:00, 56.58it/s]"
          }
        },
        "34b4915008a44c6f85013926808e8c3f": {
          "model_module": "@jupyter-widgets/controls",
          "model_module_version": "1.5.0",
          "model_name": "HBoxModel",
          "state": {
            "_dom_classes": [],
            "_model_module": "@jupyter-widgets/controls",
            "_model_module_version": "1.5.0",
            "_model_name": "HBoxModel",
            "_view_count": null,
            "_view_module": "@jupyter-widgets/controls",
            "_view_module_version": "1.5.0",
            "_view_name": "HBoxView",
            "box_style": "",
            "children": [
              "IPY_MODEL_8b524645a11148d8a8034338383092a5",
              "IPY_MODEL_b24209beff314a15be627588512cfdd5",
              "IPY_MODEL_def02343ec384ad9bf1634a24887bd36"
            ],
            "layout": "IPY_MODEL_ea022ee3889b41368a09ad420f4a370c"
          }
        },
        "37983ce94da64399bdd38162419c04b4": {
          "model_module": "@jupyter-widgets/controls",
          "model_module_version": "1.5.0",
          "model_name": "DescriptionStyleModel",
          "state": {
            "_model_module": "@jupyter-widgets/controls",
            "_model_module_version": "1.5.0",
            "_model_name": "DescriptionStyleModel",
            "_view_count": null,
            "_view_module": "@jupyter-widgets/base",
            "_view_module_version": "1.2.0",
            "_view_name": "StyleView",
            "description_width": ""
          }
        },
        "39b847f7ba2e498c8ab96a518f287a02": {
          "model_module": "@jupyter-widgets/controls",
          "model_module_version": "1.5.0",
          "model_name": "FloatProgressModel",
          "state": {
            "_dom_classes": [],
            "_model_module": "@jupyter-widgets/controls",
            "_model_module_version": "1.5.0",
            "_model_name": "FloatProgressModel",
            "_view_count": null,
            "_view_module": "@jupyter-widgets/controls",
            "_view_module_version": "1.5.0",
            "_view_name": "ProgressView",
            "bar_style": "success",
            "description": "",
            "description_tooltip": null,
            "layout": "IPY_MODEL_1cbac7942d3d41d4ad473e545d9d91e9",
            "max": 382,
            "min": 0,
            "orientation": "horizontal",
            "style": "IPY_MODEL_0d6fffe47ab748e9a0b02df4a2a83ddd",
            "value": 382
          }
        },
        "3d91782426874b8a9fb8ea2c6c93ceb1": {
          "model_module": "@jupyter-widgets/base",
          "model_module_version": "1.2.0",
          "model_name": "LayoutModel",
          "state": {
            "_model_module": "@jupyter-widgets/base",
            "_model_module_version": "1.2.0",
            "_model_name": "LayoutModel",
            "_view_count": null,
            "_view_module": "@jupyter-widgets/base",
            "_view_module_version": "1.2.0",
            "_view_name": "LayoutView",
            "align_content": null,
            "align_items": null,
            "align_self": null,
            "border": null,
            "bottom": null,
            "display": null,
            "flex": null,
            "flex_flow": null,
            "grid_area": null,
            "grid_auto_columns": null,
            "grid_auto_flow": null,
            "grid_auto_rows": null,
            "grid_column": null,
            "grid_gap": null,
            "grid_row": null,
            "grid_template_areas": null,
            "grid_template_columns": null,
            "grid_template_rows": null,
            "height": null,
            "justify_content": null,
            "justify_items": null,
            "left": null,
            "margin": null,
            "max_height": null,
            "max_width": null,
            "min_height": null,
            "min_width": null,
            "object_fit": null,
            "object_position": null,
            "order": null,
            "overflow": null,
            "overflow_x": null,
            "overflow_y": null,
            "padding": null,
            "right": null,
            "top": null,
            "visibility": null,
            "width": null
          }
        },
        "44a30b232cd445b4a5f8f2fdfa0057d6": {
          "model_module": "@jupyter-widgets/controls",
          "model_module_version": "1.5.0",
          "model_name": "HBoxModel",
          "state": {
            "_dom_classes": [],
            "_model_module": "@jupyter-widgets/controls",
            "_model_module_version": "1.5.0",
            "_model_name": "HBoxModel",
            "_view_count": null,
            "_view_module": "@jupyter-widgets/controls",
            "_view_module_version": "1.5.0",
            "_view_name": "HBoxView",
            "box_style": "",
            "children": [
              "IPY_MODEL_f5db705a1f7249b7a678eccc464c940c",
              "IPY_MODEL_39b847f7ba2e498c8ab96a518f287a02",
              "IPY_MODEL_2591716e84f0437b834a49e97668352a"
            ],
            "layout": "IPY_MODEL_798be80a2ac84e429eebb2ddc2fc3e87"
          }
        },
        "546b11ddb3194e249665c37ba628a637": {
          "model_module": "@jupyter-widgets/controls",
          "model_module_version": "1.5.0",
          "model_name": "ProgressStyleModel",
          "state": {
            "_model_module": "@jupyter-widgets/controls",
            "_model_module_version": "1.5.0",
            "_model_name": "ProgressStyleModel",
            "_view_count": null,
            "_view_module": "@jupyter-widgets/base",
            "_view_module_version": "1.2.0",
            "_view_name": "StyleView",
            "bar_color": null,
            "description_width": ""
          }
        },
        "557eda109bfc4af78d746e7f2d71ae1d": {
          "model_module": "@jupyter-widgets/controls",
          "model_module_version": "1.5.0",
          "model_name": "FloatProgressModel",
          "state": {
            "_dom_classes": [],
            "_model_module": "@jupyter-widgets/controls",
            "_model_module_version": "1.5.0",
            "_model_name": "FloatProgressModel",
            "_view_count": null,
            "_view_module": "@jupyter-widgets/controls",
            "_view_module_version": "1.5.0",
            "_view_name": "ProgressView",
            "bar_style": "success",
            "description": "",
            "description_tooltip": null,
            "layout": "IPY_MODEL_0b1e56cfd3df46acbc1731221bc21735",
            "max": 1922,
            "min": 0,
            "orientation": "horizontal",
            "style": "IPY_MODEL_546b11ddb3194e249665c37ba628a637",
            "value": 1922
          }
        },
        "5875afeeb83f44aab73f5acf53b7eff6": {
          "model_module": "@jupyter-widgets/base",
          "model_module_version": "1.2.0",
          "model_name": "LayoutModel",
          "state": {
            "_model_module": "@jupyter-widgets/base",
            "_model_module_version": "1.2.0",
            "_model_name": "LayoutModel",
            "_view_count": null,
            "_view_module": "@jupyter-widgets/base",
            "_view_module_version": "1.2.0",
            "_view_name": "LayoutView",
            "align_content": null,
            "align_items": null,
            "align_self": null,
            "border": null,
            "bottom": null,
            "display": null,
            "flex": null,
            "flex_flow": null,
            "grid_area": null,
            "grid_auto_columns": null,
            "grid_auto_flow": null,
            "grid_auto_rows": null,
            "grid_column": null,
            "grid_gap": null,
            "grid_row": null,
            "grid_template_areas": null,
            "grid_template_columns": null,
            "grid_template_rows": null,
            "height": null,
            "justify_content": null,
            "justify_items": null,
            "left": null,
            "margin": null,
            "max_height": null,
            "max_width": null,
            "min_height": null,
            "min_width": null,
            "object_fit": null,
            "object_position": null,
            "order": null,
            "overflow": null,
            "overflow_x": null,
            "overflow_y": null,
            "padding": null,
            "right": null,
            "top": null,
            "visibility": null,
            "width": null
          }
        },
        "631e8936adf549559af55b990f0522ed": {
          "model_module": "@jupyter-widgets/base",
          "model_module_version": "1.2.0",
          "model_name": "LayoutModel",
          "state": {
            "_model_module": "@jupyter-widgets/base",
            "_model_module_version": "1.2.0",
            "_model_name": "LayoutModel",
            "_view_count": null,
            "_view_module": "@jupyter-widgets/base",
            "_view_module_version": "1.2.0",
            "_view_name": "LayoutView",
            "align_content": null,
            "align_items": null,
            "align_self": null,
            "border": null,
            "bottom": null,
            "display": null,
            "flex": null,
            "flex_flow": null,
            "grid_area": null,
            "grid_auto_columns": null,
            "grid_auto_flow": null,
            "grid_auto_rows": null,
            "grid_column": null,
            "grid_gap": null,
            "grid_row": null,
            "grid_template_areas": null,
            "grid_template_columns": null,
            "grid_template_rows": null,
            "height": null,
            "justify_content": null,
            "justify_items": null,
            "left": null,
            "margin": null,
            "max_height": null,
            "max_width": null,
            "min_height": null,
            "min_width": null,
            "object_fit": null,
            "object_position": null,
            "order": null,
            "overflow": null,
            "overflow_x": null,
            "overflow_y": null,
            "padding": null,
            "right": null,
            "top": null,
            "visibility": null,
            "width": null
          }
        },
        "654b1f0f5a494e3d82791c49352c9cf4": {
          "model_module": "@jupyter-widgets/controls",
          "model_module_version": "1.5.0",
          "model_name": "HBoxModel",
          "state": {
            "_dom_classes": [],
            "_model_module": "@jupyter-widgets/controls",
            "_model_module_version": "1.5.0",
            "_model_name": "HBoxModel",
            "_view_count": null,
            "_view_module": "@jupyter-widgets/controls",
            "_view_module_version": "1.5.0",
            "_view_name": "HBoxView",
            "box_style": "",
            "children": [
              "IPY_MODEL_a878471d582641029e3617e27beab9ed",
              "IPY_MODEL_557eda109bfc4af78d746e7f2d71ae1d",
              "IPY_MODEL_cd4bd97ee77545b8af8f995b266b118f"
            ],
            "layout": "IPY_MODEL_5875afeeb83f44aab73f5acf53b7eff6"
          }
        },
        "6d36a2f8dd474929b6f519db74037a0a": {
          "model_module": "@jupyter-widgets/controls",
          "model_module_version": "1.5.0",
          "model_name": "ProgressStyleModel",
          "state": {
            "_model_module": "@jupyter-widgets/controls",
            "_model_module_version": "1.5.0",
            "_model_name": "ProgressStyleModel",
            "_view_count": null,
            "_view_module": "@jupyter-widgets/base",
            "_view_module_version": "1.2.0",
            "_view_name": "StyleView",
            "bar_color": null,
            "description_width": ""
          }
        },
        "75bdd6a9d3d543c0b311bc08d23ad5f9": {
          "model_module": "@jupyter-widgets/controls",
          "model_module_version": "1.5.0",
          "model_name": "DescriptionStyleModel",
          "state": {
            "_model_module": "@jupyter-widgets/controls",
            "_model_module_version": "1.5.0",
            "_model_name": "DescriptionStyleModel",
            "_view_count": null,
            "_view_module": "@jupyter-widgets/base",
            "_view_module_version": "1.2.0",
            "_view_name": "StyleView",
            "description_width": ""
          }
        },
        "798be80a2ac84e429eebb2ddc2fc3e87": {
          "model_module": "@jupyter-widgets/base",
          "model_module_version": "1.2.0",
          "model_name": "LayoutModel",
          "state": {
            "_model_module": "@jupyter-widgets/base",
            "_model_module_version": "1.2.0",
            "_model_name": "LayoutModel",
            "_view_count": null,
            "_view_module": "@jupyter-widgets/base",
            "_view_module_version": "1.2.0",
            "_view_name": "LayoutView",
            "align_content": null,
            "align_items": null,
            "align_self": null,
            "border": null,
            "bottom": null,
            "display": null,
            "flex": null,
            "flex_flow": null,
            "grid_area": null,
            "grid_auto_columns": null,
            "grid_auto_flow": null,
            "grid_auto_rows": null,
            "grid_column": null,
            "grid_gap": null,
            "grid_row": null,
            "grid_template_areas": null,
            "grid_template_columns": null,
            "grid_template_rows": null,
            "height": null,
            "justify_content": null,
            "justify_items": null,
            "left": null,
            "margin": null,
            "max_height": null,
            "max_width": null,
            "min_height": null,
            "min_width": null,
            "object_fit": null,
            "object_position": null,
            "order": null,
            "overflow": null,
            "overflow_x": null,
            "overflow_y": null,
            "padding": null,
            "right": null,
            "top": null,
            "visibility": null,
            "width": null
          }
        },
        "8b524645a11148d8a8034338383092a5": {
          "model_module": "@jupyter-widgets/controls",
          "model_module_version": "1.5.0",
          "model_name": "HTMLModel",
          "state": {
            "_dom_classes": [],
            "_model_module": "@jupyter-widgets/controls",
            "_model_module_version": "1.5.0",
            "_model_name": "HTMLModel",
            "_view_count": null,
            "_view_module": "@jupyter-widgets/controls",
            "_view_module_version": "1.5.0",
            "_view_name": "HTMLView",
            "description": "",
            "description_tooltip": null,
            "layout": "IPY_MODEL_3d91782426874b8a9fb8ea2c6c93ceb1",
            "placeholder": "​",
            "style": "IPY_MODEL_9c045e3ffe564b9ebc178d33e9b3240e",
            "value": "100%"
          }
        },
        "9c045e3ffe564b9ebc178d33e9b3240e": {
          "model_module": "@jupyter-widgets/controls",
          "model_module_version": "1.5.0",
          "model_name": "DescriptionStyleModel",
          "state": {
            "_model_module": "@jupyter-widgets/controls",
            "_model_module_version": "1.5.0",
            "_model_name": "DescriptionStyleModel",
            "_view_count": null,
            "_view_module": "@jupyter-widgets/base",
            "_view_module_version": "1.2.0",
            "_view_name": "StyleView",
            "description_width": ""
          }
        },
        "a4c9a98c2d894982923b70cc4c4fab38": {
          "model_module": "@jupyter-widgets/base",
          "model_module_version": "1.2.0",
          "model_name": "LayoutModel",
          "state": {
            "_model_module": "@jupyter-widgets/base",
            "_model_module_version": "1.2.0",
            "_model_name": "LayoutModel",
            "_view_count": null,
            "_view_module": "@jupyter-widgets/base",
            "_view_module_version": "1.2.0",
            "_view_name": "LayoutView",
            "align_content": null,
            "align_items": null,
            "align_self": null,
            "border": null,
            "bottom": null,
            "display": null,
            "flex": null,
            "flex_flow": null,
            "grid_area": null,
            "grid_auto_columns": null,
            "grid_auto_flow": null,
            "grid_auto_rows": null,
            "grid_column": null,
            "grid_gap": null,
            "grid_row": null,
            "grid_template_areas": null,
            "grid_template_columns": null,
            "grid_template_rows": null,
            "height": null,
            "justify_content": null,
            "justify_items": null,
            "left": null,
            "margin": null,
            "max_height": null,
            "max_width": null,
            "min_height": null,
            "min_width": null,
            "object_fit": null,
            "object_position": null,
            "order": null,
            "overflow": null,
            "overflow_x": null,
            "overflow_y": null,
            "padding": null,
            "right": null,
            "top": null,
            "visibility": null,
            "width": null
          }
        },
        "a878471d582641029e3617e27beab9ed": {
          "model_module": "@jupyter-widgets/controls",
          "model_module_version": "1.5.0",
          "model_name": "HTMLModel",
          "state": {
            "_dom_classes": [],
            "_model_module": "@jupyter-widgets/controls",
            "_model_module_version": "1.5.0",
            "_model_name": "HTMLModel",
            "_view_count": null,
            "_view_module": "@jupyter-widgets/controls",
            "_view_module_version": "1.5.0",
            "_view_name": "HTMLView",
            "description": "",
            "description_tooltip": null,
            "layout": "IPY_MODEL_1e9749ba90ae45c59cff1a38af62c38e",
            "placeholder": "​",
            "style": "IPY_MODEL_75bdd6a9d3d543c0b311bc08d23ad5f9",
            "value": "100%"
          }
        },
        "b24209beff314a15be627588512cfdd5": {
          "model_module": "@jupyter-widgets/controls",
          "model_module_version": "1.5.0",
          "model_name": "FloatProgressModel",
          "state": {
            "_dom_classes": [],
            "_model_module": "@jupyter-widgets/controls",
            "_model_module_version": "1.5.0",
            "_model_name": "FloatProgressModel",
            "_view_count": null,
            "_view_module": "@jupyter-widgets/controls",
            "_view_module_version": "1.5.0",
            "_view_name": "ProgressView",
            "bar_style": "success",
            "description": "",
            "description_tooltip": null,
            "layout": "IPY_MODEL_a4c9a98c2d894982923b70cc4c4fab38",
            "max": 1923,
            "min": 0,
            "orientation": "horizontal",
            "style": "IPY_MODEL_6d36a2f8dd474929b6f519db74037a0a",
            "value": 1923
          }
        },
        "b2d7f0e55935455399ed1c581960aad7": {
          "model_module": "@jupyter-widgets/base",
          "model_module_version": "1.2.0",
          "model_name": "LayoutModel",
          "state": {
            "_model_module": "@jupyter-widgets/base",
            "_model_module_version": "1.2.0",
            "_model_name": "LayoutModel",
            "_view_count": null,
            "_view_module": "@jupyter-widgets/base",
            "_view_module_version": "1.2.0",
            "_view_name": "LayoutView",
            "align_content": null,
            "align_items": null,
            "align_self": null,
            "border": null,
            "bottom": null,
            "display": null,
            "flex": null,
            "flex_flow": null,
            "grid_area": null,
            "grid_auto_columns": null,
            "grid_auto_flow": null,
            "grid_auto_rows": null,
            "grid_column": null,
            "grid_gap": null,
            "grid_row": null,
            "grid_template_areas": null,
            "grid_template_columns": null,
            "grid_template_rows": null,
            "height": null,
            "justify_content": null,
            "justify_items": null,
            "left": null,
            "margin": null,
            "max_height": null,
            "max_width": null,
            "min_height": null,
            "min_width": null,
            "object_fit": null,
            "object_position": null,
            "order": null,
            "overflow": null,
            "overflow_x": null,
            "overflow_y": null,
            "padding": null,
            "right": null,
            "top": null,
            "visibility": null,
            "width": null
          }
        },
        "baea8bc35d2c49568df96627a51cf535": {
          "model_module": "@jupyter-widgets/controls",
          "model_module_version": "1.5.0",
          "model_name": "DescriptionStyleModel",
          "state": {
            "_model_module": "@jupyter-widgets/controls",
            "_model_module_version": "1.5.0",
            "_model_name": "DescriptionStyleModel",
            "_view_count": null,
            "_view_module": "@jupyter-widgets/base",
            "_view_module_version": "1.2.0",
            "_view_name": "StyleView",
            "description_width": ""
          }
        },
        "bcfcd683af664547bc1c0ce3eead6019": {
          "model_module": "@jupyter-widgets/base",
          "model_module_version": "1.2.0",
          "model_name": "LayoutModel",
          "state": {
            "_model_module": "@jupyter-widgets/base",
            "_model_module_version": "1.2.0",
            "_model_name": "LayoutModel",
            "_view_count": null,
            "_view_module": "@jupyter-widgets/base",
            "_view_module_version": "1.2.0",
            "_view_name": "LayoutView",
            "align_content": null,
            "align_items": null,
            "align_self": null,
            "border": null,
            "bottom": null,
            "display": null,
            "flex": null,
            "flex_flow": null,
            "grid_area": null,
            "grid_auto_columns": null,
            "grid_auto_flow": null,
            "grid_auto_rows": null,
            "grid_column": null,
            "grid_gap": null,
            "grid_row": null,
            "grid_template_areas": null,
            "grid_template_columns": null,
            "grid_template_rows": null,
            "height": null,
            "justify_content": null,
            "justify_items": null,
            "left": null,
            "margin": null,
            "max_height": null,
            "max_width": null,
            "min_height": null,
            "min_width": null,
            "object_fit": null,
            "object_position": null,
            "order": null,
            "overflow": null,
            "overflow_x": null,
            "overflow_y": null,
            "padding": null,
            "right": null,
            "top": null,
            "visibility": null,
            "width": null
          }
        },
        "cd4bd97ee77545b8af8f995b266b118f": {
          "model_module": "@jupyter-widgets/controls",
          "model_module_version": "1.5.0",
          "model_name": "HTMLModel",
          "state": {
            "_dom_classes": [],
            "_model_module": "@jupyter-widgets/controls",
            "_model_module_version": "1.5.0",
            "_model_name": "HTMLModel",
            "_view_count": null,
            "_view_module": "@jupyter-widgets/controls",
            "_view_module_version": "1.5.0",
            "_view_name": "HTMLView",
            "description": "",
            "description_tooltip": null,
            "layout": "IPY_MODEL_23935e42f11742d6bbc1341a4fec75e5",
            "placeholder": "​",
            "style": "IPY_MODEL_160428ccc7674ee0b5ff0f0dcda591ab",
            "value": " 1922/1922 [01:17&lt;00:00, 27.48it/s, loss=5.83]"
          }
        },
        "def02343ec384ad9bf1634a24887bd36": {
          "model_module": "@jupyter-widgets/controls",
          "model_module_version": "1.5.0",
          "model_name": "HTMLModel",
          "state": {
            "_dom_classes": [],
            "_model_module": "@jupyter-widgets/controls",
            "_model_module_version": "1.5.0",
            "_model_name": "HTMLModel",
            "_view_count": null,
            "_view_module": "@jupyter-widgets/controls",
            "_view_module_version": "1.5.0",
            "_view_name": "HTMLView",
            "description": "",
            "description_tooltip": null,
            "layout": "IPY_MODEL_bcfcd683af664547bc1c0ce3eead6019",
            "placeholder": "​",
            "style": "IPY_MODEL_baea8bc35d2c49568df96627a51cf535",
            "value": " 1923/1923 [00:34&lt;00:00, 56.76it/s]"
          }
        },
        "ea022ee3889b41368a09ad420f4a370c": {
          "model_module": "@jupyter-widgets/base",
          "model_module_version": "1.2.0",
          "model_name": "LayoutModel",
          "state": {
            "_model_module": "@jupyter-widgets/base",
            "_model_module_version": "1.2.0",
            "_model_name": "LayoutModel",
            "_view_count": null,
            "_view_module": "@jupyter-widgets/base",
            "_view_module_version": "1.2.0",
            "_view_name": "LayoutView",
            "align_content": null,
            "align_items": null,
            "align_self": null,
            "border": null,
            "bottom": null,
            "display": null,
            "flex": null,
            "flex_flow": null,
            "grid_area": null,
            "grid_auto_columns": null,
            "grid_auto_flow": null,
            "grid_auto_rows": null,
            "grid_column": null,
            "grid_gap": null,
            "grid_row": null,
            "grid_template_areas": null,
            "grid_template_columns": null,
            "grid_template_rows": null,
            "height": null,
            "justify_content": null,
            "justify_items": null,
            "left": null,
            "margin": null,
            "max_height": null,
            "max_width": null,
            "min_height": null,
            "min_width": null,
            "object_fit": null,
            "object_position": null,
            "order": null,
            "overflow": null,
            "overflow_x": null,
            "overflow_y": null,
            "padding": null,
            "right": null,
            "top": null,
            "visibility": null,
            "width": null
          }
        },
        "f5db705a1f7249b7a678eccc464c940c": {
          "model_module": "@jupyter-widgets/controls",
          "model_module_version": "1.5.0",
          "model_name": "HTMLModel",
          "state": {
            "_dom_classes": [],
            "_model_module": "@jupyter-widgets/controls",
            "_model_module_version": "1.5.0",
            "_model_name": "HTMLModel",
            "_view_count": null,
            "_view_module": "@jupyter-widgets/controls",
            "_view_module_version": "1.5.0",
            "_view_name": "HTMLView",
            "description": "",
            "description_tooltip": null,
            "layout": "IPY_MODEL_b2d7f0e55935455399ed1c581960aad7",
            "placeholder": "​",
            "style": "IPY_MODEL_23cbe19dc9af4b278fc97ff8adab8b21",
            "value": "100%"
          }
        }
      }
    }
  },
  "nbformat": 4,
  "nbformat_minor": 0
}
